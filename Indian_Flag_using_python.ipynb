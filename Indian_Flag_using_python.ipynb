{
  "nbformat": 4,
  "nbformat_minor": 0,
  "metadata": {
    "colab": {
      "provenance": [],
      "authorship_tag": "ABX9TyMw4GyaUq45r2xTjqsXE9+b"
    },
    "kernelspec": {
      "name": "python3",
      "display_name": "Python 3"
    },
    "language_info": {
      "name": "python"
    }
  },
  "cells": [
    {
      "cell_type": "code",
      "execution_count": null,
      "metadata": {
        "id": "zhecZWgvYjmw"
      },
      "outputs": [],
      "source": [
        "import numpy as np\n",
        "import matplotlib.pyplot as py\n",
        "import matplotlib.patches as patch"
      ]
    },
    {
      "cell_type": "code",
      "source": [
        "#plotting the tri colors in national flag\n",
        "a = patch.Rectangle((0,1), width=12, height=2, facecolor='green', edgecolor='grey')# green\n",
        "b = patch.Rectangle((0,3), width=12, height=2, facecolor='white', edgecolor='grey')# white\n",
        "c = patch.Rectangle((0,5), width=12, height=2, facecolor='#FF9933', edgecolor='grey')#safran"
      ],
      "metadata": {
        "id": "WMRJGzDgZG6X"
      },
      "execution_count": null,
      "outputs": []
    },
    {
      "cell_type": "code",
      "source": [
        "m,n = py.subplots()\n",
        "n.add_patch(a)\n",
        "n.add_patch(b)\n",
        "n.add_patch(c)\n",
        "\n",
        "#AshokChakra Circle\n",
        "radius=0.8\n",
        "py.plot(6,4, marker = 'o', markerfacecolor = '#000088ff', markersize = 9.5)\n",
        "chakra = py.Circle((6, 4), radius, color='#000088ff', fill=False, linewidth = 7)\n",
        "n.add_artist(chakra)\n",
        "\n",
        "for i in range(0,24):\n",
        "    p = 6 + radius/2 * np.cos(np.pi*i/12 + np.pi/48)\n",
        "    q = 6 + radius/2 * np.cos(np.pi*i/12 - np.pi/48)\n",
        "    r = 4 + radius/2 * np.sin(np.pi*i/12 + np.pi/48)\n",
        "    s = 4 + radius/2 * np.sin(np.pi*i/12 - np.pi/48)\n",
        "    t = 6 + radius * np.cos(np.pi*i/12)\n",
        "    u = 4 + radius * np.sin(np.pi*i/12)\n",
        "    n.add_patch(patch.Polygon([[6,4], [p,r], [t,u],[q,s]], fill=True, closed=True, color='#000088ff'))\n",
        "py.axis('equal')\n",
        "py.show()  "
      ],
      "metadata": {
        "colab": {
          "base_uri": "https://localhost:8080/",
          "height": 265
        },
        "id": "EMytH9cGam2L",
        "outputId": "8b047c5c-9873-4966-81e9-62d44a842f38"
      },
      "execution_count": null,
      "outputs": [
        {
          "output_type": "display_data",
          "data": {
            "text/plain": [
              "<Figure size 432x288 with 1 Axes>"
            ],
            "image/png": "[encoded data removed]"
          },
          "metadata": {
            "needs_background": "light"
          }
        }
      ]
    }
  ]
}