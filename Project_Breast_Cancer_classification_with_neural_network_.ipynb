{
  "nbformat": 4,
  "nbformat_minor": 0,
  "metadata": {
    "colab": {
      "provenance": [],
      "authorship_tag": "ABX9TyNo5A+GLLtRumnxO36NyDbJ"
    },
    "kernelspec": {
      "name": "python3",
      "display_name": "Python 3"
    },
    "language_info": {
      "name": "python"
    }
  },
  "cells": [
    {
      "cell_type": "code",
      "execution_count": null,
      "metadata": {
        "id": "E0HOSb_EE0Qd"
      },
      "outputs": [],
      "source": [
        "import pandas as pd\n",
        "import numpy as np\n",
        "import matplotlib.pyplot as plt\n",
        "import seaborn as sns\n",
        "import sklearn.datasets\n",
        "from sklearn.model_selection import train_test_split"
      ]
    },
    {
      "cell_type": "code",
      "source": [
        "#loading thhe data from sklearn\n",
        "breast_cancer_dataset = sklearn.datasets.load_breast_cancer()\n",
        "print(breast_cancer_dataset)"
      ],
      "metadata": {
        "colab": {
          "base_uri": "https://localhost:8080/"
        },
        "id": "e6eBizTTFeGH",
        "outputId": "f719dc13-15ec-4b26-db1b-85fe2dfde752"
      },
      "execution_count": null,
      "outputs": [
        {
          "output_type": "stream",
          "name": "stdout",
          "text": [
            "{'data': array([[1.799e+01, 1.038e+01, 1.228e+02, ..., 2.654e-01, 4.601e-01,\n",
            "        1.189e-01],\n",
            "       [2.057e+01, 1.777e+01, 1.329e+02, ..., 1.860e-01, 2.750e-01,\n",
            "        8.902e-02],\n",
            "       [1.969e+01, 2.125e+01, 1.300e+02, ..., 2.430e-01, 3.613e-01,\n",
            "        8.758e-02],\n",
            "       ...,\n",
            "       [1.660e+01, 2.808e+01, 1.083e+02, ..., 1.418e-01, 2.218e-01,\n",
            "        7.820e-02],\n",
            "       [2.060e+01, 2.933e+01, 1.401e+02, ..., 2.650e-01, 4.087e-01,\n",
            "        1.240e-01],\n",
            "       [7.760e+00, 2.454e+01, 4.792e+01, ..., 0.000e+00, 2.871e-01,\n",
            "        7.039e-02]]), 'target': array([0, 0, 0, 0, 0, 0, 0, 0, 0, 0, 0, 0, 0, 0, 0, 0, 0, 0, 0, 1, 1, 1,\n",
            "       0, 0, 0, 0, 0, 0, 0, 0, 0, 0, 0, 0, 0, 0, 0, 1, 0, 0, 0, 0, 0, 0,\n",
            "       0, 0, 1, 0, 1, 1, 1, 1, 1, 0, 0, 1, 0, 0, 1, 1, 1, 1, 0, 1, 0, 0,\n",
            "       1, 1, 1, 1, 0, 1, 0, 0, 1, 0, 1, 0, 0, 1, 1, 1, 0, 0, 1, 0, 0, 0,\n",
            "       1, 1, 1, 0, 1, 1, 0, 0, 1, 1, 1, 0, 0, 1, 1, 1, 1, 0, 1, 1, 0, 1,\n",
            "       1, 1, 1, 1, 1, 1, 1, 0, 0, 0, 1, 0, 0, 1, 1, 1, 0, 0, 1, 0, 1, 0,\n",
            "       0, 1, 0, 0, 1, 1, 0, 1, 1, 0, 1, 1, 1, 1, 0, 1, 1, 1, 1, 1, 1, 1,\n",
            "       1, 1, 0, 1, 1, 1, 1, 0, 0, 1, 0, 1, 1, 0, 0, 1, 1, 0, 0, 1, 1, 1,\n",
            "       1, 0, 1, 1, 0, 0, 0, 1, 0, 1, 0, 1, 1, 1, 0, 1, 1, 0, 0, 1, 0, 0,\n",
            "       0, 0, 1, 0, 0, 0, 1, 0, 1, 0, 1, 1, 0, 1, 0, 0, 0, 0, 1, 1, 0, 0,\n",
            "       1, 1, 1, 0, 1, 1, 1, 1, 1, 0, 0, 1, 1, 0, 1, 1, 0, 0, 1, 0, 1, 1,\n",
            "       1, 1, 0, 1, 1, 1, 1, 1, 0, 1, 0, 0, 0, 0, 0, 0, 0, 0, 0, 0, 0, 0,\n",
            "       0, 0, 1, 1, 1, 1, 1, 1, 0, 1, 0, 1, 1, 0, 1, 1, 0, 1, 0, 0, 1, 1,\n",
            "       1, 1, 1, 1, 1, 1, 1, 1, 1, 1, 1, 0, 1, 1, 0, 1, 0, 1, 1, 1, 1, 1,\n",
            "       1, 1, 1, 1, 1, 1, 1, 1, 1, 0, 1, 1, 1, 0, 1, 0, 1, 1, 1, 1, 0, 0,\n",
            "       0, 1, 1, 1, 1, 0, 1, 0, 1, 0, 1, 1, 1, 0, 1, 1, 1, 1, 1, 1, 1, 0,\n",
            "       0, 0, 1, 1, 1, 1, 1, 1, 1, 1, 1, 1, 1, 0, 0, 1, 0, 0, 0, 1, 0, 0,\n",
            "       1, 1, 1, 1, 1, 0, 1, 1, 1, 1, 1, 0, 1, 1, 1, 0, 1, 1, 0, 0, 1, 1,\n",
            "       1, 1, 1, 1, 0, 1, 1, 1, 1, 1, 1, 1, 0, 1, 1, 1, 1, 1, 0, 1, 1, 0,\n",
            "       1, 1, 1, 1, 1, 1, 1, 1, 1, 1, 1, 1, 0, 1, 0, 0, 1, 0, 1, 1, 1, 1,\n",
            "       1, 0, 1, 1, 0, 1, 0, 1, 1, 0, 1, 0, 1, 1, 1, 1, 1, 1, 1, 1, 0, 0,\n",
            "       1, 1, 1, 1, 1, 1, 0, 1, 1, 1, 1, 1, 1, 1, 1, 1, 1, 0, 1, 1, 1, 1,\n",
            "       1, 1, 1, 0, 1, 0, 1, 1, 0, 1, 1, 1, 1, 1, 0, 0, 1, 0, 1, 0, 1, 1,\n",
            "       1, 1, 1, 0, 1, 1, 0, 1, 0, 1, 0, 0, 1, 1, 1, 0, 1, 1, 1, 1, 1, 1,\n",
            "       1, 1, 1, 1, 1, 0, 1, 0, 0, 1, 1, 1, 1, 1, 1, 1, 1, 1, 1, 1, 1, 1,\n",
            "       1, 1, 1, 1, 1, 1, 1, 1, 1, 1, 1, 1, 0, 0, 0, 0, 0, 0, 1]), 'frame': None, 'target_names': array(['malignant', 'benign'], dtype='<U9'), 'DESCR': '.. _breast_cancer_dataset:\\n\\nBreast cancer wisconsin (diagnostic) dataset\\n--------------------------------------------\\n\\n**Data Set Characteristics:**\\n\\n    :Number of Instances: 569\\n\\n    :Number of Attributes: 30 numeric, predictive attributes and the class\\n\\n    :Attribute Information:\\n        - radius (mean of distances from center to points on the perimeter)\\n        - texture (standard deviation of gray-scale values)\\n        - perimeter\\n        - area\\n        - smoothness (local variation in radius lengths)\\n        - compactness (perimeter^2 / area - 1.0)\\n        - concavity (severity of concave portions of the contour)\\n        - concave points (number of concave portions of the contour)\\n        - symmetry\\n        - fractal dimension (\"coastline approximation\" - 1)\\n\\n        The mean, standard error, and \"worst\" or largest (mean of the three\\n        worst/largest values) of these features were computed for each image,\\n        resulting in 30 features.  For instance, field 0 is Mean Radius, field\\n        10 is Radius SE, field 20 is Worst Radius.\\n\\n        - class:\\n                - WDBC-Malignant\\n                - WDBC-Benign\\n\\n    :Summary Statistics:\\n\\n    ===================================== ====== ======\\n                                           Min    Max\\n    ===================================== ====== ======\\n    radius (mean):                        6.981  28.11\\n    texture (mean):                       9.71   39.28\\n    perimeter (mean):                     43.79  188.5\\n    area (mean):                          143.5  2501.0\\n    smoothness (mean):                    0.053  0.163\\n    compactness (mean):                   0.019  0.345\\n    concavity (mean):                     0.0    0.427\\n    concave points (mean):                0.0    0.201\\n    symmetry (mean):                      0.106  0.304\\n    fractal dimension (mean):             0.05   0.097\\n    radius (standard error):              0.112  2.873\\n    texture (standard error):             0.36   4.885\\n    perimeter (standard error):           0.757  21.98\\n    area (standard error):                6.802  542.2\\n    smoothness (standard error):          0.002  0.031\\n    compactness (standard error):         0.002  0.135\\n    concavity (standard error):           0.0    0.396\\n    concave points (standard error):      0.0    0.053\\n    symmetry (standard error):            0.008  0.079\\n    fractal dimension (standard error):   0.001  0.03\\n    radius (worst):                       7.93   36.04\\n    texture (worst):                      12.02  49.54\\n    perimeter (worst):                    50.41  251.2\\n    area (worst):                         185.2  4254.0\\n    smoothness (worst):                   0.071  0.223\\n    compactness (worst):                  0.027  1.058\\n    concavity (worst):                    0.0    1.252\\n    concave points (worst):               0.0    0.291\\n    symmetry (worst):                     0.156  0.664\\n    fractal dimension (worst):            0.055  0.208\\n    ===================================== ====== ======\\n\\n    :Missing Attribute Values: None\\n\\n    :Class Distribution: 212 - Malignant, 357 - Benign\\n\\n    :Creator:  Dr. William H. Wolberg, W. Nick Street, Olvi L. Mangasarian\\n\\n    :Donor: Nick Street\\n\\n    :Date: November, 1995\\n\\nThis is a copy of UCI ML Breast Cancer Wisconsin (Diagnostic) datasets.\\nhttps://goo.gl/U2Uwz2\\n\\nFeatures are computed from a digitized image of a fine needle\\naspirate (FNA) of a breast mass.  They describe\\ncharacteristics of the cell nuclei present in the image.\\n\\nSeparating plane described above was obtained using\\nMultisurface Method-Tree (MSM-T) [K. P. Bennett, \"Decision Tree\\nConstruction Via Linear Programming.\" Proceedings of the 4th\\nMidwest Artificial Intelligence and Cognitive Science Society,\\npp. 97-101, 1992], a classification method which uses linear\\nprogramming to construct a decision tree.  Relevant features\\nwere selected using an exhaustive search in the space of 1-4\\nfeatures and 1-3 separating planes.\\n\\nThe actual linear program used to obtain the separating plane\\nin the 3-dimensional space is that described in:\\n[K. P. Bennett and O. L. Mangasarian: \"Robust Linear\\nProgramming Discrimination of Two Linearly Inseparable Sets\",\\nOptimization Methods and Software 1, 1992, 23-34].\\n\\nThis database is also available through the UW CS ftp server:\\n\\nftp ftp.cs.wisc.edu\\ncd math-prog/cpo-dataset/machine-learn/WDBC/\\n\\n.. topic:: References\\n\\n   - W.N. Street, W.H. Wolberg and O.L. Mangasarian. Nuclear feature extraction \\n     for breast tumor diagnosis. IS&T/SPIE 1993 International Symposium on \\n     Electronic Imaging: Science and Technology, volume 1905, pages 861-870,\\n     San Jose, CA, 1993.\\n   - O.L. Mangasarian, W.N. Street and W.H. Wolberg. Breast cancer diagnosis and \\n     prognosis via linear programming. Operations Research, 43(4), pages 570-577, \\n     July-August 1995.\\n   - W.H. Wolberg, W.N. Street, and O.L. Mangasarian. Machine learning techniques\\n     to diagnose breast cancer from fine-needle aspirates. Cancer Letters 77 (1994) \\n     163-171.', 'feature_names': array(['mean radius', 'mean texture', 'mean perimeter', 'mean area',\n",
            "       'mean smoothness', 'mean compactness', 'mean concavity',\n",
            "       'mean concave points', 'mean symmetry', 'mean fractal dimension',\n",
            "       'radius error', 'texture error', 'perimeter error', 'area error',\n",
            "       'smoothness error', 'compactness error', 'concavity error',\n",
            "       'concave points error', 'symmetry error',\n",
            "       'fractal dimension error', 'worst radius', 'worst texture',\n",
            "       'worst perimeter', 'worst area', 'worst smoothness',\n",
            "       'worst compactness', 'worst concavity', 'worst concave points',\n",
            "       'worst symmetry', 'worst fractal dimension'], dtype='<U23'), 'filename': 'breast_cancer.csv', 'data_module': 'sklearn.datasets.data'}\n"
          ]
        }
      ]
    },
    {
      "cell_type": "code",
      "source": [
        "#loading the data to a data frame\n",
        "data_frame = pd.DataFrame(breast_cancer_dataset.data, columns = breast_cancer_dataset.feature_names)"
      ],
      "metadata": {
        "id": "ofc1i199F9hQ"
      },
      "execution_count": null,
      "outputs": []
    },
    {
      "cell_type": "code",
      "source": [
        "#print the last 5 rows of the dataframe\n",
        "data_frame.head()"
      ],
      "metadata": {
        "colab": {
          "base_uri": "https://localhost:8080/",
          "height": 334
        },
        "id": "LOcMlxn8GNxC",
        "outputId": "4ecf0fd0-8c61-4126-97ba-bc79398d0b4a"
      },
      "execution_count": null,
      "outputs": [
        {
          "output_type": "execute_result",
          "data": {
            "text/plain": [
              "   mean radius  mean texture  mean perimeter  mean area  mean smoothness  \\\n",
              "0        17.99         10.38          122.80     1001.0          0.11840   \n",
              "1        20.57         17.77          132.90     1326.0          0.08474   \n",
              "2        19.69         21.25          130.00     1203.0          0.10960   \n",
              "3        11.42         20.38           77.58      386.1          0.14250   \n",
              "4        20.29         14.34          135.10     1297.0          0.10030   \n",
              "\n",
              "   mean compactness  mean concavity  mean concave points  mean symmetry  \\\n",
              "0           0.27760          0.3001              0.14710         0.2419   \n",
              "1           0.07864          0.0869              0.07017         0.1812   \n",
              "2           0.15990          0.1974              0.12790         0.2069   \n",
              "3           0.28390          0.2414              0.10520         0.2597   \n",
              "4           0.13280          0.1980              0.10430         0.1809   \n",
              "\n",
              "   mean fractal dimension  ...  worst radius  worst texture  worst perimeter  \\\n",
              "0                 0.07871  ...         25.38          17.33           184.60   \n",
              "1                 0.05667  ...         24.99          23.41           158.80   \n",
              "2                 0.05999  ...         23.57          25.53           152.50   \n",
              "3                 0.09744  ...         14.91          26.50            98.87   \n",
              "4                 0.05883  ...         22.54          16.67           152.20   \n",
              "\n",
              "   worst area  worst smoothness  worst compactness  worst concavity  \\\n",
              "0      2019.0            0.1622             0.6656           0.7119   \n",
              "1      1956.0            0.1238             0.1866           0.2416   \n",
              "2      1709.0            0.1444             0.4245           0.4504   \n",
              "3       567.7            0.2098             0.8663           0.6869   \n",
              "4      1575.0            0.1374             0.2050           0.4000   \n",
              "\n",
              "   worst concave points  worst symmetry  worst fractal dimension  \n",
              "0                0.2654          0.4601                  0.11890  \n",
              "1                0.1860          0.2750                  0.08902  \n",
              "2                0.2430          0.3613                  0.08758  \n",
              "3                0.2575          0.6638                  0.17300  \n",
              "4                0.1625          0.2364                  0.07678  \n",
              "\n",
              "[5 rows x 30 columns]"
            ],
            "text/html": [
              "\n",
              "  <div id=\"df-5c500411-9058-4f35-87a7-d5cce938cc33\">\n",
              "    <div class=\"colab-df-container\">\n",
              "      <div>\n",
              "<style scoped>\n",
              "    .dataframe tbody tr th:only-of-type {\n",
              "        vertical-align: middle;\n",
              "    }\n",
              "\n",
              "    .dataframe tbody tr th {\n",
              "        vertical-align: top;\n",
              "    }\n",
              "\n",
              "    .dataframe thead th {\n",
              "        text-align: right;\n",
              "    }\n",
              "</style>\n",
              "<table border=\"1\" class=\"dataframe\">\n",
              "  <thead>\n",
              "    <tr style=\"text-align: right;\">\n",
              "      <th></th>\n",
              "      <th>mean radius</th>\n",
              "      <th>mean texture</th>\n",
              "      <th>mean perimeter</th>\n",
              "      <th>mean area</th>\n",
              "      <th>mean smoothness</th>\n",
              "      <th>mean compactness</th>\n",
              "      <th>mean concavity</th>\n",
              "      <th>mean concave points</th>\n",
              "      <th>mean symmetry</th>\n",
              "      <th>mean fractal dimension</th>\n",
              "      <th>...</th>\n",
              "      <th>worst radius</th>\n",
              "      <th>worst texture</th>\n",
              "      <th>worst perimeter</th>\n",
              "      <th>worst area</th>\n",
              "      <th>worst smoothness</th>\n",
              "      <th>worst compactness</th>\n",
              "      <th>worst concavity</th>\n",
              "      <th>worst concave points</th>\n",
              "      <th>worst symmetry</th>\n",
              "      <th>worst fractal dimension</th>\n",
              "    </tr>\n",
              "  </thead>\n",
              "  <tbody>\n",
              "    <tr>\n",
              "      <th>0</th>\n",
              "      <td>17.99</td>\n",
              "      <td>10.38</td>\n",
              "      <td>122.80</td>\n",
              "      <td>1001.0</td>\n",
              "      <td>0.11840</td>\n",
              "      <td>0.27760</td>\n",
              "      <td>0.3001</td>\n",
              "      <td>0.14710</td>\n",
              "      <td>0.2419</td>\n",
              "      <td>0.07871</td>\n",
              "      <td>...</td>\n",
              "      <td>25.38</td>\n",
              "      <td>17.33</td>\n",
              "      <td>184.60</td>\n",
              "      <td>2019.0</td>\n",
              "      <td>0.1622</td>\n",
              "      <td>0.6656</td>\n",
              "      <td>0.7119</td>\n",
              "      <td>0.2654</td>\n",
              "      <td>0.4601</td>\n",
              "      <td>0.11890</td>\n",
              "    </tr>\n",
              "    <tr>\n",
              "      <th>1</th>\n",
              "      <td>20.57</td>\n",
              "      <td>17.77</td>\n",
              "      <td>132.90</td>\n",
              "      <td>1326.0</td>\n",
              "      <td>0.08474</td>\n",
              "      <td>0.07864</td>\n",
              "      <td>0.0869</td>\n",
              "      <td>0.07017</td>\n",
              "      <td>0.1812</td>\n",
              "      <td>0.05667</td>\n",
              "      <td>...</td>\n",
              "      <td>24.99</td>\n",
              "      <td>23.41</td>\n",
              "      <td>158.80</td>\n",
              "      <td>1956.0</td>\n",
              "      <td>0.1238</td>\n",
              "      <td>0.1866</td>\n",
              "      <td>0.2416</td>\n",
              "      <td>0.1860</td>\n",
              "      <td>0.2750</td>\n",
              "      <td>0.08902</td>\n",
              "    </tr>\n",
              "    <tr>\n",
              "      <th>2</th>\n",
              "      <td>19.69</td>\n",
              "      <td>21.25</td>\n",
              "      <td>130.00</td>\n",
              "      <td>1203.0</td>\n",
              "      <td>0.10960</td>\n",
              "      <td>0.15990</td>\n",
              "      <td>0.1974</td>\n",
              "      <td>0.12790</td>\n",
              "      <td>0.2069</td>\n",
              "      <td>0.05999</td>\n",
              "      <td>...</td>\n",
              "      <td>23.57</td>\n",
              "      <td>25.53</td>\n",
              "      <td>152.50</td>\n",
              "      <td>1709.0</td>\n",
              "      <td>0.1444</td>\n",
              "      <td>0.4245</td>\n",
              "      <td>0.4504</td>\n",
              "      <td>0.2430</td>\n",
              "      <td>0.3613</td>\n",
              "      <td>0.08758</td>\n",
              "    </tr>\n",
              "    <tr>\n",
              "      <th>3</th>\n",
              "      <td>11.42</td>\n",
              "      <td>20.38</td>\n",
              "      <td>77.58</td>\n",
              "      <td>386.1</td>\n",
              "      <td>0.14250</td>\n",
              "      <td>0.28390</td>\n",
              "      <td>0.2414</td>\n",
              "      <td>0.10520</td>\n",
              "      <td>0.2597</td>\n",
              "      <td>0.09744</td>\n",
              "      <td>...</td>\n",
              "      <td>14.91</td>\n",
              "      <td>26.50</td>\n",
              "      <td>98.87</td>\n",
              "      <td>567.7</td>\n",
              "      <td>0.2098</td>\n",
              "      <td>0.8663</td>\n",
              "      <td>0.6869</td>\n",
              "      <td>0.2575</td>\n",
              "      <td>0.6638</td>\n",
              "      <td>0.17300</td>\n",
              "    </tr>\n",
              "    <tr>\n",
              "      <th>4</th>\n",
              "      <td>20.29</td>\n",
              "      <td>14.34</td>\n",
              "      <td>135.10</td>\n",
              "      <td>1297.0</td>\n",
              "      <td>0.10030</td>\n",
              "      <td>0.13280</td>\n",
              "      <td>0.1980</td>\n",
              "      <td>0.10430</td>\n",
              "      <td>0.1809</td>\n",
              "      <td>0.05883</td>\n",
              "      <td>...</td>\n",
              "      <td>22.54</td>\n",
              "      <td>16.67</td>\n",
              "      <td>152.20</td>\n",
              "      <td>1575.0</td>\n",
              "      <td>0.1374</td>\n",
              "      <td>0.2050</td>\n",
              "      <td>0.4000</td>\n",
              "      <td>0.1625</td>\n",
              "      <td>0.2364</td>\n",
              "      <td>0.07678</td>\n",
              "    </tr>\n",
              "  </tbody>\n",
              "</table>\n",
              "<p>5 rows × 30 columns</p>\n",
              "</div>\n",
              "      <button class=\"colab-df-convert\" onclick=\"convertToInteractive('df-5c500411-9058-4f35-87a7-d5cce938cc33')\"\n",
              "              title=\"Convert this dataframe to an interactive table.\"\n",
              "              style=\"display:none;\">\n",
              "        \n",
              "  <svg xmlns=\"http://www.w3.org/2000/svg\" height=\"24px\"viewBox=\"0 0 24 24\"\n",
              "       width=\"24px\">\n",
              "    <path d=\"M0 0h24v24H0V0z\" fill=\"none\"/>\n",
              "    <path d=\"M18.56 5.44l.94 2.06.94-2.06 2.06-.94-2.06-.94-.94-2.06-.94 2.06-2.06.94zm-11 1L8.5 8.5l.94-2.06 2.06-.94-2.06-.94L8.5 2.5l-.94 2.06-2.06.94zm10 10l.94 2.06.94-2.06 2.06-.94-2.06-.94-.94-2.06-.94 2.06-2.06.94z\"/><path d=\"M17.41 7.96l-1.37-1.37c-.4-.4-.92-.59-1.43-.59-.52 0-1.04.2-1.43.59L10.3 9.45l-7.72 7.72c-.78.78-.78 2.05 0 2.83L4 21.41c.39.39.9.59 1.41.59.51 0 1.02-.2 1.41-.59l7.78-7.78 2.81-2.81c.8-.78.8-2.07 0-2.86zM5.41 20L4 18.59l7.72-7.72 1.47 1.35L5.41 20z\"/>\n",
              "  </svg>\n",
              "      </button>\n",
              "      \n",
              "  <style>\n",
              "    .colab-df-container {\n",
              "      display:flex;\n",
              "      flex-wrap:wrap;\n",
              "      gap: 12px;\n",
              "    }\n",
              "\n",
              "    .colab-df-convert {\n",
              "      background-color: #E8F0FE;\n",
              "      border: none;\n",
              "      border-radius: 50%;\n",
              "      cursor: pointer;\n",
              "      display: none;\n",
              "      fill: #1967D2;\n",
              "      height: 32px;\n",
              "      padding: 0 0 0 0;\n",
              "      width: 32px;\n",
              "    }\n",
              "\n",
              "    .colab-df-convert:hover {\n",
              "      background-color: #E2EBFA;\n",
              "      box-shadow: 0px 1px 2px rgba(60, 64, 67, 0.3), 0px 1px 3px 1px rgba(60, 64, 67, 0.15);\n",
              "      fill: #174EA6;\n",
              "    }\n",
              "\n",
              "    [theme=dark] .colab-df-convert {\n",
              "      background-color: #3B4455;\n",
              "      fill: #D2E3FC;\n",
              "    }\n",
              "\n",
              "    [theme=dark] .colab-df-convert:hover {\n",
              "      background-color: #434B5C;\n",
              "      box-shadow: 0px 1px 3px 1px rgba(0, 0, 0, 0.15);\n",
              "      filter: drop-shadow(0px 1px 2px rgba(0, 0, 0, 0.3));\n",
              "      fill: #FFFFFF;\n",
              "    }\n",
              "  </style>\n",
              "\n",
              "      <script>\n",
              "        const buttonEl =\n",
              "          document.querySelector('#df-5c500411-9058-4f35-87a7-d5cce938cc33 button.colab-df-convert');\n",
              "        buttonEl.style.display =\n",
              "          google.colab.kernel.accessAllowed ? 'block' : 'none';\n",
              "\n",
              "        async function convertToInteractive(key) {\n",
              "          const element = document.querySelector('#df-5c500411-9058-4f35-87a7-d5cce938cc33');\n",
              "          const dataTable =\n",
              "            await google.colab.kernel.invokeFunction('convertToInteractive',\n",
              "                                                     [key], {});\n",
              "          if (!dataTable) return;\n",
              "\n",
              "          const docLinkHtml = 'Like what you see? Visit the ' +\n",
              "            '<a target=\"_blank\" href=https://colab.research.google.com/notebooks/data_table.ipynb>data table notebook</a>'\n",
              "            + ' to learn more about interactive tables.';\n",
              "          element.innerHTML = '';\n",
              "          dataTable['output_type'] = 'display_data';\n",
              "          await google.colab.output.renderOutput(dataTable, element);\n",
              "          const docLink = document.createElement('div');\n",
              "          docLink.innerHTML = docLinkHtml;\n",
              "          element.appendChild(docLink);\n",
              "        }\n",
              "      </script>\n",
              "    </div>\n",
              "  </div>\n",
              "  "
            ]
          },
          "metadata": {},
          "execution_count": 7
        }
      ]
    },
    {
      "cell_type": "code",
      "source": [
        "#adding the 'target' columns to the dataframe\n",
        "data_frame['label']= breast_cancer_dataset.target"
      ],
      "metadata": {
        "id": "omlIcoNhGTtt"
      },
      "execution_count": null,
      "outputs": []
    },
    {
      "cell_type": "code",
      "source": [
        "#print last 5 rows of the dataframe\n",
        "data_frame.tail()"
      ],
      "metadata": {
        "colab": {
          "base_uri": "https://localhost:8080/",
          "height": 334
        },
        "id": "7MeFu46UGo5o",
        "outputId": "c221ff36-7bf8-4305-b5e4-e6c392221104"
      },
      "execution_count": null,
      "outputs": [
        {
          "output_type": "execute_result",
          "data": {
            "text/plain": [
              "     mean radius  mean texture  mean perimeter  mean area  mean smoothness  \\\n",
              "564        21.56         22.39          142.00     1479.0          0.11100   \n",
              "565        20.13         28.25          131.20     1261.0          0.09780   \n",
              "566        16.60         28.08          108.30      858.1          0.08455   \n",
              "567        20.60         29.33          140.10     1265.0          0.11780   \n",
              "568         7.76         24.54           47.92      181.0          0.05263   \n",
              "\n",
              "     mean compactness  mean concavity  mean concave points  mean symmetry  \\\n",
              "564           0.11590         0.24390              0.13890         0.1726   \n",
              "565           0.10340         0.14400              0.09791         0.1752   \n",
              "566           0.10230         0.09251              0.05302         0.1590   \n",
              "567           0.27700         0.35140              0.15200         0.2397   \n",
              "568           0.04362         0.00000              0.00000         0.1587   \n",
              "\n",
              "     mean fractal dimension  ...  worst texture  worst perimeter  worst area  \\\n",
              "564                 0.05623  ...          26.40           166.10      2027.0   \n",
              "565                 0.05533  ...          38.25           155.00      1731.0   \n",
              "566                 0.05648  ...          34.12           126.70      1124.0   \n",
              "567                 0.07016  ...          39.42           184.60      1821.0   \n",
              "568                 0.05884  ...          30.37            59.16       268.6   \n",
              "\n",
              "     worst smoothness  worst compactness  worst concavity  \\\n",
              "564           0.14100            0.21130           0.4107   \n",
              "565           0.11660            0.19220           0.3215   \n",
              "566           0.11390            0.30940           0.3403   \n",
              "567           0.16500            0.86810           0.9387   \n",
              "568           0.08996            0.06444           0.0000   \n",
              "\n",
              "     worst concave points  worst symmetry  worst fractal dimension  label  \n",
              "564                0.2216          0.2060                  0.07115      0  \n",
              "565                0.1628          0.2572                  0.06637      0  \n",
              "566                0.1418          0.2218                  0.07820      0  \n",
              "567                0.2650          0.4087                  0.12400      0  \n",
              "568                0.0000          0.2871                  0.07039      1  \n",
              "\n",
              "[5 rows x 31 columns]"
            ],
            "text/html": [
              "\n",
              "  <div id=\"df-ece6000e-a81f-4ae6-9beb-a22fc2f438d0\">\n",
              "    <div class=\"colab-df-container\">\n",
              "      <div>\n",
              "<style scoped>\n",
              "    .dataframe tbody tr th:only-of-type {\n",
              "        vertical-align: middle;\n",
              "    }\n",
              "\n",
              "    .dataframe tbody tr th {\n",
              "        vertical-align: top;\n",
              "    }\n",
              "\n",
              "    .dataframe thead th {\n",
              "        text-align: right;\n",
              "    }\n",
              "</style>\n",
              "<table border=\"1\" class=\"dataframe\">\n",
              "  <thead>\n",
              "    <tr style=\"text-align: right;\">\n",
              "      <th></th>\n",
              "      <th>mean radius</th>\n",
              "      <th>mean texture</th>\n",
              "      <th>mean perimeter</th>\n",
              "      <th>mean area</th>\n",
              "      <th>mean smoothness</th>\n",
              "      <th>mean compactness</th>\n",
              "      <th>mean concavity</th>\n",
              "      <th>mean concave points</th>\n",
              "      <th>mean symmetry</th>\n",
              "      <th>mean fractal dimension</th>\n",
              "      <th>...</th>\n",
              "      <th>worst texture</th>\n",
              "      <th>worst perimeter</th>\n",
              "      <th>worst area</th>\n",
              "      <th>worst smoothness</th>\n",
              "      <th>worst compactness</th>\n",
              "      <th>worst concavity</th>\n",
              "      <th>worst concave points</th>\n",
              "      <th>worst symmetry</th>\n",
              "      <th>worst fractal dimension</th>\n",
              "      <th>label</th>\n",
              "    </tr>\n",
              "  </thead>\n",
              "  <tbody>\n",
              "    <tr>\n",
              "      <th>564</th>\n",
              "      <td>21.56</td>\n",
              "      <td>22.39</td>\n",
              "      <td>142.00</td>\n",
              "      <td>1479.0</td>\n",
              "      <td>0.11100</td>\n",
              "      <td>0.11590</td>\n",
              "      <td>0.24390</td>\n",
              "      <td>0.13890</td>\n",
              "      <td>0.1726</td>\n",
              "      <td>0.05623</td>\n",
              "      <td>...</td>\n",
              "      <td>26.40</td>\n",
              "      <td>166.10</td>\n",
              "      <td>2027.0</td>\n",
              "      <td>0.14100</td>\n",
              "      <td>0.21130</td>\n",
              "      <td>0.4107</td>\n",
              "      <td>0.2216</td>\n",
              "      <td>0.2060</td>\n",
              "      <td>0.07115</td>\n",
              "      <td>0</td>\n",
              "    </tr>\n",
              "    <tr>\n",
              "      <th>565</th>\n",
              "      <td>20.13</td>\n",
              "      <td>28.25</td>\n",
              "      <td>131.20</td>\n",
              "      <td>1261.0</td>\n",
              "      <td>0.09780</td>\n",
              "      <td>0.10340</td>\n",
              "      <td>0.14400</td>\n",
              "      <td>0.09791</td>\n",
              "      <td>0.1752</td>\n",
              "      <td>0.05533</td>\n",
              "      <td>...</td>\n",
              "      <td>38.25</td>\n",
              "      <td>155.00</td>\n",
              "      <td>1731.0</td>\n",
              "      <td>0.11660</td>\n",
              "      <td>0.19220</td>\n",
              "      <td>0.3215</td>\n",
              "      <td>0.1628</td>\n",
              "      <td>0.2572</td>\n",
              "      <td>0.06637</td>\n",
              "      <td>0</td>\n",
              "    </tr>\n",
              "    <tr>\n",
              "      <th>566</th>\n",
              "      <td>16.60</td>\n",
              "      <td>28.08</td>\n",
              "      <td>108.30</td>\n",
              "      <td>858.1</td>\n",
              "      <td>0.08455</td>\n",
              "      <td>0.10230</td>\n",
              "      <td>0.09251</td>\n",
              "      <td>0.05302</td>\n",
              "      <td>0.1590</td>\n",
              "      <td>0.05648</td>\n",
              "      <td>...</td>\n",
              "      <td>34.12</td>\n",
              "      <td>126.70</td>\n",
              "      <td>1124.0</td>\n",
              "      <td>0.11390</td>\n",
              "      <td>0.30940</td>\n",
              "      <td>0.3403</td>\n",
              "      <td>0.1418</td>\n",
              "      <td>0.2218</td>\n",
              "      <td>0.07820</td>\n",
              "      <td>0</td>\n",
              "    </tr>\n",
              "    <tr>\n",
              "      <th>567</th>\n",
              "      <td>20.60</td>\n",
              "      <td>29.33</td>\n",
              "      <td>140.10</td>\n",
              "      <td>1265.0</td>\n",
              "      <td>0.11780</td>\n",
              "      <td>0.27700</td>\n",
              "      <td>0.35140</td>\n",
              "      <td>0.15200</td>\n",
              "      <td>0.2397</td>\n",
              "      <td>0.07016</td>\n",
              "      <td>...</td>\n",
              "      <td>39.42</td>\n",
              "      <td>184.60</td>\n",
              "      <td>1821.0</td>\n",
              "      <td>0.16500</td>\n",
              "      <td>0.86810</td>\n",
              "      <td>0.9387</td>\n",
              "      <td>0.2650</td>\n",
              "      <td>0.4087</td>\n",
              "      <td>0.12400</td>\n",
              "      <td>0</td>\n",
              "    </tr>\n",
              "    <tr>\n",
              "      <th>568</th>\n",
              "      <td>7.76</td>\n",
              "      <td>24.54</td>\n",
              "      <td>47.92</td>\n",
              "      <td>181.0</td>\n",
              "      <td>0.05263</td>\n",
              "      <td>0.04362</td>\n",
              "      <td>0.00000</td>\n",
              "      <td>0.00000</td>\n",
              "      <td>0.1587</td>\n",
              "      <td>0.05884</td>\n",
              "      <td>...</td>\n",
              "      <td>30.37</td>\n",
              "      <td>59.16</td>\n",
              "      <td>268.6</td>\n",
              "      <td>0.08996</td>\n",
              "      <td>0.06444</td>\n",
              "      <td>0.0000</td>\n",
              "      <td>0.0000</td>\n",
              "      <td>0.2871</td>\n",
              "      <td>0.07039</td>\n",
              "      <td>1</td>\n",
              "    </tr>\n",
              "  </tbody>\n",
              "</table>\n",
              "<p>5 rows × 31 columns</p>\n",
              "</div>\n",
              "      <button class=\"colab-df-convert\" onclick=\"convertToInteractive('df-ece6000e-a81f-4ae6-9beb-a22fc2f438d0')\"\n",
              "              title=\"Convert this dataframe to an interactive table.\"\n",
              "              style=\"display:none;\">\n",
              "        \n",
              "  <svg xmlns=\"http://www.w3.org/2000/svg\" height=\"24px\"viewBox=\"0 0 24 24\"\n",
              "       width=\"24px\">\n",
              "    <path d=\"M0 0h24v24H0V0z\" fill=\"none\"/>\n",
              "    <path d=\"M18.56 5.44l.94 2.06.94-2.06 2.06-.94-2.06-.94-.94-2.06-.94 2.06-2.06.94zm-11 1L8.5 8.5l.94-2.06 2.06-.94-2.06-.94L8.5 2.5l-.94 2.06-2.06.94zm10 10l.94 2.06.94-2.06 2.06-.94-2.06-.94-.94-2.06-.94 2.06-2.06.94z\"/><path d=\"M17.41 7.96l-1.37-1.37c-.4-.4-.92-.59-1.43-.59-.52 0-1.04.2-1.43.59L10.3 9.45l-7.72 7.72c-.78.78-.78 2.05 0 2.83L4 21.41c.39.39.9.59 1.41.59.51 0 1.02-.2 1.41-.59l7.78-7.78 2.81-2.81c.8-.78.8-2.07 0-2.86zM5.41 20L4 18.59l7.72-7.72 1.47 1.35L5.41 20z\"/>\n",
              "  </svg>\n",
              "      </button>\n",
              "      \n",
              "  <style>\n",
              "    .colab-df-container {\n",
              "      display:flex;\n",
              "      flex-wrap:wrap;\n",
              "      gap: 12px;\n",
              "    }\n",
              "\n",
              "    .colab-df-convert {\n",
              "      background-color: #E8F0FE;\n",
              "      border: none;\n",
              "      border-radius: 50%;\n",
              "      cursor: pointer;\n",
              "      display: none;\n",
              "      fill: #1967D2;\n",
              "      height: 32px;\n",
              "      padding: 0 0 0 0;\n",
              "      width: 32px;\n",
              "    }\n",
              "\n",
              "    .colab-df-convert:hover {\n",
              "      background-color: #E2EBFA;\n",
              "      box-shadow: 0px 1px 2px rgba(60, 64, 67, 0.3), 0px 1px 3px 1px rgba(60, 64, 67, 0.15);\n",
              "      fill: #174EA6;\n",
              "    }\n",
              "\n",
              "    [theme=dark] .colab-df-convert {\n",
              "      background-color: #3B4455;\n",
              "      fill: #D2E3FC;\n",
              "    }\n",
              "\n",
              "    [theme=dark] .colab-df-convert:hover {\n",
              "      background-color: #434B5C;\n",
              "      box-shadow: 0px 1px 3px 1px rgba(0, 0, 0, 0.15);\n",
              "      filter: drop-shadow(0px 1px 2px rgba(0, 0, 0, 0.3));\n",
              "      fill: #FFFFFF;\n",
              "    }\n",
              "  </style>\n",
              "\n",
              "      <script>\n",
              "        const buttonEl =\n",
              "          document.querySelector('#df-ece6000e-a81f-4ae6-9beb-a22fc2f438d0 button.colab-df-convert');\n",
              "        buttonEl.style.display =\n",
              "          google.colab.kernel.accessAllowed ? 'block' : 'none';\n",
              "\n",
              "        async function convertToInteractive(key) {\n",
              "          const element = document.querySelector('#df-ece6000e-a81f-4ae6-9beb-a22fc2f438d0');\n",
              "          const dataTable =\n",
              "            await google.colab.kernel.invokeFunction('convertToInteractive',\n",
              "                                                     [key], {});\n",
              "          if (!dataTable) return;\n",
              "\n",
              "          const docLinkHtml = 'Like what you see? Visit the ' +\n",
              "            '<a target=\"_blank\" href=https://colab.research.google.com/notebooks/data_table.ipynb>data table notebook</a>'\n",
              "            + ' to learn more about interactive tables.';\n",
              "          element.innerHTML = '';\n",
              "          dataTable['output_type'] = 'display_data';\n",
              "          await google.colab.output.renderOutput(dataTable, element);\n",
              "          const docLink = document.createElement('div');\n",
              "          docLink.innerHTML = docLinkHtml;\n",
              "          element.appendChild(docLink);\n",
              "        }\n",
              "      </script>\n",
              "    </div>\n",
              "  </div>\n",
              "  "
            ]
          },
          "metadata": {},
          "execution_count": 9
        }
      ]
    },
    {
      "cell_type": "code",
      "source": [
        "#number of roes and columns in the dataset\n",
        "data_frame.shape"
      ],
      "metadata": {
        "colab": {
          "base_uri": "https://localhost:8080/"
        },
        "id": "8t8_N7sLGx2o",
        "outputId": "334d9626-d6ad-46cd-fee2-9fbe07b9d6a5"
      },
      "execution_count": null,
      "outputs": [
        {
          "output_type": "execute_result",
          "data": {
            "text/plain": [
              "(569, 31)"
            ]
          },
          "metadata": {},
          "execution_count": 10
        }
      ]
    },
    {
      "cell_type": "code",
      "source": [
        "#getting some information about the data\n",
        "data_frame.info()"
      ],
      "metadata": {
        "colab": {
          "base_uri": "https://localhost:8080/"
        },
        "id": "HO_9XntFG0gN",
        "outputId": "6914af82-2882-4d7d-a236-20c87817fa49"
      },
      "execution_count": null,
      "outputs": [
        {
          "output_type": "stream",
          "name": "stdout",
          "text": [
            "<class 'pandas.core.frame.DataFrame'>\n",
            "RangeIndex: 569 entries, 0 to 568\n",
            "Data columns (total 31 columns):\n",
            " #   Column                   Non-Null Count  Dtype  \n",
            "---  ------                   --------------  -----  \n",
            " 0   mean radius              569 non-null    float64\n",
            " 1   mean texture             569 non-null    float64\n",
            " 2   mean perimeter           569 non-null    float64\n",
            " 3   mean area                569 non-null    float64\n",
            " 4   mean smoothness          569 non-null    float64\n",
            " 5   mean compactness         569 non-null    float64\n",
            " 6   mean concavity           569 non-null    float64\n",
            " 7   mean concave points      569 non-null    float64\n",
            " 8   mean symmetry            569 non-null    float64\n",
            " 9   mean fractal dimension   569 non-null    float64\n",
            " 10  radius error             569 non-null    float64\n",
            " 11  texture error            569 non-null    float64\n",
            " 12  perimeter error          569 non-null    float64\n",
            " 13  area error               569 non-null    float64\n",
            " 14  smoothness error         569 non-null    float64\n",
            " 15  compactness error        569 non-null    float64\n",
            " 16  concavity error          569 non-null    float64\n",
            " 17  concave points error     569 non-null    float64\n",
            " 18  symmetry error           569 non-null    float64\n",
            " 19  fractal dimension error  569 non-null    float64\n",
            " 20  worst radius             569 non-null    float64\n",
            " 21  worst texture            569 non-null    float64\n",
            " 22  worst perimeter          569 non-null    float64\n",
            " 23  worst area               569 non-null    float64\n",
            " 24  worst smoothness         569 non-null    float64\n",
            " 25  worst compactness        569 non-null    float64\n",
            " 26  worst concavity          569 non-null    float64\n",
            " 27  worst concave points     569 non-null    float64\n",
            " 28  worst symmetry           569 non-null    float64\n",
            " 29  worst fractal dimension  569 non-null    float64\n",
            " 30  label                    569 non-null    int64  \n",
            "dtypes: float64(30), int64(1)\n",
            "memory usage: 137.9 KB\n"
          ]
        }
      ]
    },
    {
      "cell_type": "code",
      "source": [
        "#checking the missing values\n",
        "data_frame.isnull().sum()"
      ],
      "metadata": {
        "colab": {
          "base_uri": "https://localhost:8080/"
        },
        "id": "BGDUaIpFG9x0",
        "outputId": "09cc82e0-7b55-47b7-9342-b67a1f1725a8"
      },
      "execution_count": null,
      "outputs": [
        {
          "output_type": "execute_result",
          "data": {
            "text/plain": [
              "mean radius                0\n",
              "mean texture               0\n",
              "mean perimeter             0\n",
              "mean area                  0\n",
              "mean smoothness            0\n",
              "mean compactness           0\n",
              "mean concavity             0\n",
              "mean concave points        0\n",
              "mean symmetry              0\n",
              "mean fractal dimension     0\n",
              "radius error               0\n",
              "texture error              0\n",
              "perimeter error            0\n",
              "area error                 0\n",
              "smoothness error           0\n",
              "compactness error          0\n",
              "concavity error            0\n",
              "concave points error       0\n",
              "symmetry error             0\n",
              "fractal dimension error    0\n",
              "worst radius               0\n",
              "worst texture              0\n",
              "worst perimeter            0\n",
              "worst area                 0\n",
              "worst smoothness           0\n",
              "worst compactness          0\n",
              "worst concavity            0\n",
              "worst concave points       0\n",
              "worst symmetry             0\n",
              "worst fractal dimension    0\n",
              "label                      0\n",
              "dtype: int64"
            ]
          },
          "metadata": {},
          "execution_count": 12
        }
      ]
    },
    {
      "cell_type": "code",
      "source": [
        "#statistical measures about the data\n",
        "data_frame.describe()\n"
      ],
      "metadata": {
        "colab": {
          "base_uri": "https://localhost:8080/",
          "height": 428
        },
        "id": "2UrALKslHIps",
        "outputId": "4d9257b6-17db-46fc-8a1b-2ef723d5a884"
      },
      "execution_count": null,
      "outputs": [
        {
          "output_type": "execute_result",
          "data": {
            "text/plain": [
              "       mean radius  mean texture  mean perimeter    mean area  \\\n",
              "count   569.000000    569.000000      569.000000   569.000000   \n",
              "mean     14.127292     19.289649       91.969033   654.889104   \n",
              "std       3.524049      4.301036       24.298981   351.914129   \n",
              "min       6.981000      9.710000       43.790000   143.500000   \n",
              "25%      11.700000     16.170000       75.170000   420.300000   \n",
              "50%      13.370000     18.840000       86.240000   551.100000   \n",
              "75%      15.780000     21.800000      104.100000   782.700000   \n",
              "max      28.110000     39.280000      188.500000  2501.000000   \n",
              "\n",
              "       mean smoothness  mean compactness  mean concavity  mean concave points  \\\n",
              "count       569.000000        569.000000      569.000000           569.000000   \n",
              "mean          0.096360          0.104341        0.088799             0.048919   \n",
              "std           0.014064          0.052813        0.079720             0.038803   \n",
              "min           0.052630          0.019380        0.000000             0.000000   \n",
              "25%           0.086370          0.064920        0.029560             0.020310   \n",
              "50%           0.095870          0.092630        0.061540             0.033500   \n",
              "75%           0.105300          0.130400        0.130700             0.074000   \n",
              "max           0.163400          0.345400        0.426800             0.201200   \n",
              "\n",
              "       mean symmetry  mean fractal dimension  ...  worst texture  \\\n",
              "count     569.000000              569.000000  ...     569.000000   \n",
              "mean        0.181162                0.062798  ...      25.677223   \n",
              "std         0.027414                0.007060  ...       6.146258   \n",
              "min         0.106000                0.049960  ...      12.020000   \n",
              "25%         0.161900                0.057700  ...      21.080000   \n",
              "50%         0.179200                0.061540  ...      25.410000   \n",
              "75%         0.195700                0.066120  ...      29.720000   \n",
              "max         0.304000                0.097440  ...      49.540000   \n",
              "\n",
              "       worst perimeter   worst area  worst smoothness  worst compactness  \\\n",
              "count       569.000000   569.000000        569.000000         569.000000   \n",
              "mean        107.261213   880.583128          0.132369           0.254265   \n",
              "std          33.602542   569.356993          0.022832           0.157336   \n",
              "min          50.410000   185.200000          0.071170           0.027290   \n",
              "25%          84.110000   515.300000          0.116600           0.147200   \n",
              "50%          97.660000   686.500000          0.131300           0.211900   \n",
              "75%         125.400000  1084.000000          0.146000           0.339100   \n",
              "max         251.200000  4254.000000          0.222600           1.058000   \n",
              "\n",
              "       worst concavity  worst concave points  worst symmetry  \\\n",
              "count       569.000000            569.000000      569.000000   \n",
              "mean          0.272188              0.114606        0.290076   \n",
              "std           0.208624              0.065732        0.061867   \n",
              "min           0.000000              0.000000        0.156500   \n",
              "25%           0.114500              0.064930        0.250400   \n",
              "50%           0.226700              0.099930        0.282200   \n",
              "75%           0.382900              0.161400        0.317900   \n",
              "max           1.252000              0.291000        0.663800   \n",
              "\n",
              "       worst fractal dimension       label  \n",
              "count               569.000000  569.000000  \n",
              "mean                  0.083946    0.627417  \n",
              "std                   0.018061    0.483918  \n",
              "min                   0.055040    0.000000  \n",
              "25%                   0.071460    0.000000  \n",
              "50%                   0.080040    1.000000  \n",
              "75%                   0.092080    1.000000  \n",
              "max                   0.207500    1.000000  \n",
              "\n",
              "[8 rows x 31 columns]"
            ],
            "text/html": [
              "\n",
              "  <div id=\"df-0f7977b4-4ed0-4887-aeb0-951c341b8c9d\">\n",
              "    <div class=\"colab-df-container\">\n",
              "      <div>\n",
              "<style scoped>\n",
              "    .dataframe tbody tr th:only-of-type {\n",
              "        vertical-align: middle;\n",
              "    }\n",
              "\n",
              "    .dataframe tbody tr th {\n",
              "        vertical-align: top;\n",
              "    }\n",
              "\n",
              "    .dataframe thead th {\n",
              "        text-align: right;\n",
              "    }\n",
              "</style>\n",
              "<table border=\"1\" class=\"dataframe\">\n",
              "  <thead>\n",
              "    <tr style=\"text-align: right;\">\n",
              "      <th></th>\n",
              "      <th>mean radius</th>\n",
              "      <th>mean texture</th>\n",
              "      <th>mean perimeter</th>\n",
              "      <th>mean area</th>\n",
              "      <th>mean smoothness</th>\n",
              "      <th>mean compactness</th>\n",
              "      <th>mean concavity</th>\n",
              "      <th>mean concave points</th>\n",
              "      <th>mean symmetry</th>\n",
              "      <th>mean fractal dimension</th>\n",
              "      <th>...</th>\n",
              "      <th>worst texture</th>\n",
              "      <th>worst perimeter</th>\n",
              "      <th>worst area</th>\n",
              "      <th>worst smoothness</th>\n",
              "      <th>worst compactness</th>\n",
              "      <th>worst concavity</th>\n",
              "      <th>worst concave points</th>\n",
              "      <th>worst symmetry</th>\n",
              "      <th>worst fractal dimension</th>\n",
              "      <th>label</th>\n",
              "    </tr>\n",
              "  </thead>\n",
              "  <tbody>\n",
              "    <tr>\n",
              "      <th>count</th>\n",
              "      <td>569.000000</td>\n",
              "      <td>569.000000</td>\n",
              "      <td>569.000000</td>\n",
              "      <td>569.000000</td>\n",
              "      <td>569.000000</td>\n",
              "      <td>569.000000</td>\n",
              "      <td>569.000000</td>\n",
              "      <td>569.000000</td>\n",
              "      <td>569.000000</td>\n",
              "      <td>569.000000</td>\n",
              "      <td>...</td>\n",
              "      <td>569.000000</td>\n",
              "      <td>569.000000</td>\n",
              "      <td>569.000000</td>\n",
              "      <td>569.000000</td>\n",
              "      <td>569.000000</td>\n",
              "      <td>569.000000</td>\n",
              "      <td>569.000000</td>\n",
              "      <td>569.000000</td>\n",
              "      <td>569.000000</td>\n",
              "      <td>569.000000</td>\n",
              "    </tr>\n",
              "    <tr>\n",
              "      <th>mean</th>\n",
              "      <td>14.127292</td>\n",
              "      <td>19.289649</td>\n",
              "      <td>91.969033</td>\n",
              "      <td>654.889104</td>\n",
              "      <td>0.096360</td>\n",
              "      <td>0.104341</td>\n",
              "      <td>0.088799</td>\n",
              "      <td>0.048919</td>\n",
              "      <td>0.181162</td>\n",
              "      <td>0.062798</td>\n",
              "      <td>...</td>\n",
              "      <td>25.677223</td>\n",
              "      <td>107.261213</td>\n",
              "      <td>880.583128</td>\n",
              "      <td>0.132369</td>\n",
              "      <td>0.254265</td>\n",
              "      <td>0.272188</td>\n",
              "      <td>0.114606</td>\n",
              "      <td>0.290076</td>\n",
              "      <td>0.083946</td>\n",
              "      <td>0.627417</td>\n",
              "    </tr>\n",
              "    <tr>\n",
              "      <th>std</th>\n",
              "      <td>3.524049</td>\n",
              "      <td>4.301036</td>\n",
              "      <td>24.298981</td>\n",
              "      <td>351.914129</td>\n",
              "      <td>0.014064</td>\n",
              "      <td>0.052813</td>\n",
              "      <td>0.079720</td>\n",
              "      <td>0.038803</td>\n",
              "      <td>0.027414</td>\n",
              "      <td>0.007060</td>\n",
              "      <td>...</td>\n",
              "      <td>6.146258</td>\n",
              "      <td>33.602542</td>\n",
              "      <td>569.356993</td>\n",
              "      <td>0.022832</td>\n",
              "      <td>0.157336</td>\n",
              "      <td>0.208624</td>\n",
              "      <td>0.065732</td>\n",
              "      <td>0.061867</td>\n",
              "      <td>0.018061</td>\n",
              "      <td>0.483918</td>\n",
              "    </tr>\n",
              "    <tr>\n",
              "      <th>min</th>\n",
              "      <td>6.981000</td>\n",
              "      <td>9.710000</td>\n",
              "      <td>43.790000</td>\n",
              "      <td>143.500000</td>\n",
              "      <td>0.052630</td>\n",
              "      <td>0.019380</td>\n",
              "      <td>0.000000</td>\n",
              "      <td>0.000000</td>\n",
              "      <td>0.106000</td>\n",
              "      <td>0.049960</td>\n",
              "      <td>...</td>\n",
              "      <td>12.020000</td>\n",
              "      <td>50.410000</td>\n",
              "      <td>185.200000</td>\n",
              "      <td>0.071170</td>\n",
              "      <td>0.027290</td>\n",
              "      <td>0.000000</td>\n",
              "      <td>0.000000</td>\n",
              "      <td>0.156500</td>\n",
              "      <td>0.055040</td>\n",
              "      <td>0.000000</td>\n",
              "    </tr>\n",
              "    <tr>\n",
              "      <th>25%</th>\n",
              "      <td>11.700000</td>\n",
              "      <td>16.170000</td>\n",
              "      <td>75.170000</td>\n",
              "      <td>420.300000</td>\n",
              "      <td>0.086370</td>\n",
              "      <td>0.064920</td>\n",
              "      <td>0.029560</td>\n",
              "      <td>0.020310</td>\n",
              "      <td>0.161900</td>\n",
              "      <td>0.057700</td>\n",
              "      <td>...</td>\n",
              "      <td>21.080000</td>\n",
              "      <td>84.110000</td>\n",
              "      <td>515.300000</td>\n",
              "      <td>0.116600</td>\n",
              "      <td>0.147200</td>\n",
              "      <td>0.114500</td>\n",
              "      <td>0.064930</td>\n",
              "      <td>0.250400</td>\n",
              "      <td>0.071460</td>\n",
              "      <td>0.000000</td>\n",
              "    </tr>\n",
              "    <tr>\n",
              "      <th>50%</th>\n",
              "      <td>13.370000</td>\n",
              "      <td>18.840000</td>\n",
              "      <td>86.240000</td>\n",
              "      <td>551.100000</td>\n",
              "      <td>0.095870</td>\n",
              "      <td>0.092630</td>\n",
              "      <td>0.061540</td>\n",
              "      <td>0.033500</td>\n",
              "      <td>0.179200</td>\n",
              "      <td>0.061540</td>\n",
              "      <td>...</td>\n",
              "      <td>25.410000</td>\n",
              "      <td>97.660000</td>\n",
              "      <td>686.500000</td>\n",
              "      <td>0.131300</td>\n",
              "      <td>0.211900</td>\n",
              "      <td>0.226700</td>\n",
              "      <td>0.099930</td>\n",
              "      <td>0.282200</td>\n",
              "      <td>0.080040</td>\n",
              "      <td>1.000000</td>\n",
              "    </tr>\n",
              "    <tr>\n",
              "      <th>75%</th>\n",
              "      <td>15.780000</td>\n",
              "      <td>21.800000</td>\n",
              "      <td>104.100000</td>\n",
              "      <td>782.700000</td>\n",
              "      <td>0.105300</td>\n",
              "      <td>0.130400</td>\n",
              "      <td>0.130700</td>\n",
              "      <td>0.074000</td>\n",
              "      <td>0.195700</td>\n",
              "      <td>0.066120</td>\n",
              "      <td>...</td>\n",
              "      <td>29.720000</td>\n",
              "      <td>125.400000</td>\n",
              "      <td>1084.000000</td>\n",
              "      <td>0.146000</td>\n",
              "      <td>0.339100</td>\n",
              "      <td>0.382900</td>\n",
              "      <td>0.161400</td>\n",
              "      <td>0.317900</td>\n",
              "      <td>0.092080</td>\n",
              "      <td>1.000000</td>\n",
              "    </tr>\n",
              "    <tr>\n",
              "      <th>max</th>\n",
              "      <td>28.110000</td>\n",
              "      <td>39.280000</td>\n",
              "      <td>188.500000</td>\n",
              "      <td>2501.000000</td>\n",
              "      <td>0.163400</td>\n",
              "      <td>0.345400</td>\n",
              "      <td>0.426800</td>\n",
              "      <td>0.201200</td>\n",
              "      <td>0.304000</td>\n",
              "      <td>0.097440</td>\n",
              "      <td>...</td>\n",
              "      <td>49.540000</td>\n",
              "      <td>251.200000</td>\n",
              "      <td>4254.000000</td>\n",
              "      <td>0.222600</td>\n",
              "      <td>1.058000</td>\n",
              "      <td>1.252000</td>\n",
              "      <td>0.291000</td>\n",
              "      <td>0.663800</td>\n",
              "      <td>0.207500</td>\n",
              "      <td>1.000000</td>\n",
              "    </tr>\n",
              "  </tbody>\n",
              "</table>\n",
              "<p>8 rows × 31 columns</p>\n",
              "</div>\n",
              "      <button class=\"colab-df-convert\" onclick=\"convertToInteractive('df-0f7977b4-4ed0-4887-aeb0-951c341b8c9d')\"\n",
              "              title=\"Convert this dataframe to an interactive table.\"\n",
              "              style=\"display:none;\">\n",
              "        \n",
              "  <svg xmlns=\"http://www.w3.org/2000/svg\" height=\"24px\"viewBox=\"0 0 24 24\"\n",
              "       width=\"24px\">\n",
              "    <path d=\"M0 0h24v24H0V0z\" fill=\"none\"/>\n",
              "    <path d=\"M18.56 5.44l.94 2.06.94-2.06 2.06-.94-2.06-.94-.94-2.06-.94 2.06-2.06.94zm-11 1L8.5 8.5l.94-2.06 2.06-.94-2.06-.94L8.5 2.5l-.94 2.06-2.06.94zm10 10l.94 2.06.94-2.06 2.06-.94-2.06-.94-.94-2.06-.94 2.06-2.06.94z\"/><path d=\"M17.41 7.96l-1.37-1.37c-.4-.4-.92-.59-1.43-.59-.52 0-1.04.2-1.43.59L10.3 9.45l-7.72 7.72c-.78.78-.78 2.05 0 2.83L4 21.41c.39.39.9.59 1.41.59.51 0 1.02-.2 1.41-.59l7.78-7.78 2.81-2.81c.8-.78.8-2.07 0-2.86zM5.41 20L4 18.59l7.72-7.72 1.47 1.35L5.41 20z\"/>\n",
              "  </svg>\n",
              "      </button>\n",
              "      \n",
              "  <style>\n",
              "    .colab-df-container {\n",
              "      display:flex;\n",
              "      flex-wrap:wrap;\n",
              "      gap: 12px;\n",
              "    }\n",
              "\n",
              "    .colab-df-convert {\n",
              "      background-color: #E8F0FE;\n",
              "      border: none;\n",
              "      border-radius: 50%;\n",
              "      cursor: pointer;\n",
              "      display: none;\n",
              "      fill: #1967D2;\n",
              "      height: 32px;\n",
              "      padding: 0 0 0 0;\n",
              "      width: 32px;\n",
              "    }\n",
              "\n",
              "    .colab-df-convert:hover {\n",
              "      background-color: #E2EBFA;\n",
              "      box-shadow: 0px 1px 2px rgba(60, 64, 67, 0.3), 0px 1px 3px 1px rgba(60, 64, 67, 0.15);\n",
              "      fill: #174EA6;\n",
              "    }\n",
              "\n",
              "    [theme=dark] .colab-df-convert {\n",
              "      background-color: #3B4455;\n",
              "      fill: #D2E3FC;\n",
              "    }\n",
              "\n",
              "    [theme=dark] .colab-df-convert:hover {\n",
              "      background-color: #434B5C;\n",
              "      box-shadow: 0px 1px 3px 1px rgba(0, 0, 0, 0.15);\n",
              "      filter: drop-shadow(0px 1px 2px rgba(0, 0, 0, 0.3));\n",
              "      fill: #FFFFFF;\n",
              "    }\n",
              "  </style>\n",
              "\n",
              "      <script>\n",
              "        const buttonEl =\n",
              "          document.querySelector('#df-0f7977b4-4ed0-4887-aeb0-951c341b8c9d button.colab-df-convert');\n",
              "        buttonEl.style.display =\n",
              "          google.colab.kernel.accessAllowed ? 'block' : 'none';\n",
              "\n",
              "        async function convertToInteractive(key) {\n",
              "          const element = document.querySelector('#df-0f7977b4-4ed0-4887-aeb0-951c341b8c9d');\n",
              "          const dataTable =\n",
              "            await google.colab.kernel.invokeFunction('convertToInteractive',\n",
              "                                                     [key], {});\n",
              "          if (!dataTable) return;\n",
              "\n",
              "          const docLinkHtml = 'Like what you see? Visit the ' +\n",
              "            '<a target=\"_blank\" href=https://colab.research.google.com/notebooks/data_table.ipynb>data table notebook</a>'\n",
              "            + ' to learn more about interactive tables.';\n",
              "          element.innerHTML = '';\n",
              "          dataTable['output_type'] = 'display_data';\n",
              "          await google.colab.output.renderOutput(dataTable, element);\n",
              "          const docLink = document.createElement('div');\n",
              "          docLink.innerHTML = docLinkHtml;\n",
              "          element.appendChild(docLink);\n",
              "        }\n",
              "      </script>\n",
              "    </div>\n",
              "  </div>\n",
              "  "
            ]
          },
          "metadata": {},
          "execution_count": 13
        }
      ]
    },
    {
      "cell_type": "code",
      "source": [
        "# checking the distrbution of target varibles\n",
        "data_frame['label'].value_counts()"
      ],
      "metadata": {
        "colab": {
          "base_uri": "https://localhost:8080/"
        },
        "id": "j3DV2GNOHRVo",
        "outputId": "45aeafc2-1434-4a8f-9702-9c5c4a7295db"
      },
      "execution_count": null,
      "outputs": [
        {
          "output_type": "execute_result",
          "data": {
            "text/plain": [
              "1    357\n",
              "0    212\n",
              "Name: label, dtype: int64"
            ]
          },
          "metadata": {},
          "execution_count": 14
        }
      ]
    },
    {
      "cell_type": "markdown",
      "source": [
        "1------>Benign\n",
        "\n",
        "2------>Malignant"
      ],
      "metadata": {
        "id": "V-xUqotiJGZ2"
      }
    },
    {
      "cell_type": "code",
      "source": [
        "data_frame .groupby('label').mean()"
      ],
      "metadata": {
        "colab": {
          "base_uri": "https://localhost:8080/",
          "height": 271
        },
        "id": "ND7LUl56JF-0",
        "outputId": "6299a660-8bd9-460e-b300-ee602ea170b1"
      },
      "execution_count": null,
      "outputs": [
        {
          "output_type": "execute_result",
          "data": {
            "text/plain": [
              "       mean radius  mean texture  mean perimeter   mean area  mean smoothness  \\\n",
              "label                                                                           \n",
              "0        17.462830     21.604906      115.365377  978.376415         0.102898   \n",
              "1        12.146524     17.914762       78.075406  462.790196         0.092478   \n",
              "\n",
              "       mean compactness  mean concavity  mean concave points  mean symmetry  \\\n",
              "label                                                                         \n",
              "0              0.145188        0.160775             0.087990       0.192909   \n",
              "1              0.080085        0.046058             0.025717       0.174186   \n",
              "\n",
              "       mean fractal dimension  ...  worst radius  worst texture  \\\n",
              "label                          ...                                \n",
              "0                    0.062680  ...     21.134811      29.318208   \n",
              "1                    0.062867  ...     13.379801      23.515070   \n",
              "\n",
              "       worst perimeter   worst area  worst smoothness  worst compactness  \\\n",
              "label                                                                      \n",
              "0           141.370330  1422.286321          0.144845           0.374824   \n",
              "1            87.005938   558.899440          0.124959           0.182673   \n",
              "\n",
              "       worst concavity  worst concave points  worst symmetry  \\\n",
              "label                                                          \n",
              "0             0.450606              0.182237        0.323468   \n",
              "1             0.166238              0.074444        0.270246   \n",
              "\n",
              "       worst fractal dimension  \n",
              "label                           \n",
              "0                     0.091530  \n",
              "1                     0.079442  \n",
              "\n",
              "[2 rows x 30 columns]"
            ],
            "text/html": [
              "\n",
              "  <div id=\"df-edaa076a-b0f1-420d-858a-c07d2d9c9673\">\n",
              "    <div class=\"colab-df-container\">\n",
              "      <div>\n",
              "<style scoped>\n",
              "    .dataframe tbody tr th:only-of-type {\n",
              "        vertical-align: middle;\n",
              "    }\n",
              "\n",
              "    .dataframe tbody tr th {\n",
              "        vertical-align: top;\n",
              "    }\n",
              "\n",
              "    .dataframe thead th {\n",
              "        text-align: right;\n",
              "    }\n",
              "</style>\n",
              "<table border=\"1\" class=\"dataframe\">\n",
              "  <thead>\n",
              "    <tr style=\"text-align: right;\">\n",
              "      <th></th>\n",
              "      <th>mean radius</th>\n",
              "      <th>mean texture</th>\n",
              "      <th>mean perimeter</th>\n",
              "      <th>mean area</th>\n",
              "      <th>mean smoothness</th>\n",
              "      <th>mean compactness</th>\n",
              "      <th>mean concavity</th>\n",
              "      <th>mean concave points</th>\n",
              "      <th>mean symmetry</th>\n",
              "      <th>mean fractal dimension</th>\n",
              "      <th>...</th>\n",
              "      <th>worst radius</th>\n",
              "      <th>worst texture</th>\n",
              "      <th>worst perimeter</th>\n",
              "      <th>worst area</th>\n",
              "      <th>worst smoothness</th>\n",
              "      <th>worst compactness</th>\n",
              "      <th>worst concavity</th>\n",
              "      <th>worst concave points</th>\n",
              "      <th>worst symmetry</th>\n",
              "      <th>worst fractal dimension</th>\n",
              "    </tr>\n",
              "    <tr>\n",
              "      <th>label</th>\n",
              "      <th></th>\n",
              "      <th></th>\n",
              "      <th></th>\n",
              "      <th></th>\n",
              "      <th></th>\n",
              "      <th></th>\n",
              "      <th></th>\n",
              "      <th></th>\n",
              "      <th></th>\n",
              "      <th></th>\n",
              "      <th></th>\n",
              "      <th></th>\n",
              "      <th></th>\n",
              "      <th></th>\n",
              "      <th></th>\n",
              "      <th></th>\n",
              "      <th></th>\n",
              "      <th></th>\n",
              "      <th></th>\n",
              "      <th></th>\n",
              "      <th></th>\n",
              "    </tr>\n",
              "  </thead>\n",
              "  <tbody>\n",
              "    <tr>\n",
              "      <th>0</th>\n",
              "      <td>17.462830</td>\n",
              "      <td>21.604906</td>\n",
              "      <td>115.365377</td>\n",
              "      <td>978.376415</td>\n",
              "      <td>0.102898</td>\n",
              "      <td>0.145188</td>\n",
              "      <td>0.160775</td>\n",
              "      <td>0.087990</td>\n",
              "      <td>0.192909</td>\n",
              "      <td>0.062680</td>\n",
              "      <td>...</td>\n",
              "      <td>21.134811</td>\n",
              "      <td>29.318208</td>\n",
              "      <td>141.370330</td>\n",
              "      <td>1422.286321</td>\n",
              "      <td>0.144845</td>\n",
              "      <td>0.374824</td>\n",
              "      <td>0.450606</td>\n",
              "      <td>0.182237</td>\n",
              "      <td>0.323468</td>\n",
              "      <td>0.091530</td>\n",
              "    </tr>\n",
              "    <tr>\n",
              "      <th>1</th>\n",
              "      <td>12.146524</td>\n",
              "      <td>17.914762</td>\n",
              "      <td>78.075406</td>\n",
              "      <td>462.790196</td>\n",
              "      <td>0.092478</td>\n",
              "      <td>0.080085</td>\n",
              "      <td>0.046058</td>\n",
              "      <td>0.025717</td>\n",
              "      <td>0.174186</td>\n",
              "      <td>0.062867</td>\n",
              "      <td>...</td>\n",
              "      <td>13.379801</td>\n",
              "      <td>23.515070</td>\n",
              "      <td>87.005938</td>\n",
              "      <td>558.899440</td>\n",
              "      <td>0.124959</td>\n",
              "      <td>0.182673</td>\n",
              "      <td>0.166238</td>\n",
              "      <td>0.074444</td>\n",
              "      <td>0.270246</td>\n",
              "      <td>0.079442</td>\n",
              "    </tr>\n",
              "  </tbody>\n",
              "</table>\n",
              "<p>2 rows × 30 columns</p>\n",
              "</div>\n",
              "      <button class=\"colab-df-convert\" onclick=\"convertToInteractive('df-edaa076a-b0f1-420d-858a-c07d2d9c9673')\"\n",
              "              title=\"Convert this dataframe to an interactive table.\"\n",
              "              style=\"display:none;\">\n",
              "        \n",
              "  <svg xmlns=\"http://www.w3.org/2000/svg\" height=\"24px\"viewBox=\"0 0 24 24\"\n",
              "       width=\"24px\">\n",
              "    <path d=\"M0 0h24v24H0V0z\" fill=\"none\"/>\n",
              "    <path d=\"M18.56 5.44l.94 2.06.94-2.06 2.06-.94-2.06-.94-.94-2.06-.94 2.06-2.06.94zm-11 1L8.5 8.5l.94-2.06 2.06-.94-2.06-.94L8.5 2.5l-.94 2.06-2.06.94zm10 10l.94 2.06.94-2.06 2.06-.94-2.06-.94-.94-2.06-.94 2.06-2.06.94z\"/><path d=\"M17.41 7.96l-1.37-1.37c-.4-.4-.92-.59-1.43-.59-.52 0-1.04.2-1.43.59L10.3 9.45l-7.72 7.72c-.78.78-.78 2.05 0 2.83L4 21.41c.39.39.9.59 1.41.59.51 0 1.02-.2 1.41-.59l7.78-7.78 2.81-2.81c.8-.78.8-2.07 0-2.86zM5.41 20L4 18.59l7.72-7.72 1.47 1.35L5.41 20z\"/>\n",
              "  </svg>\n",
              "      </button>\n",
              "      \n",
              "  <style>\n",
              "    .colab-df-container {\n",
              "      display:flex;\n",
              "      flex-wrap:wrap;\n",
              "      gap: 12px;\n",
              "    }\n",
              "\n",
              "    .colab-df-convert {\n",
              "      background-color: #E8F0FE;\n",
              "      border: none;\n",
              "      border-radius: 50%;\n",
              "      cursor: pointer;\n",
              "      display: none;\n",
              "      fill: #1967D2;\n",
              "      height: 32px;\n",
              "      padding: 0 0 0 0;\n",
              "      width: 32px;\n",
              "    }\n",
              "\n",
              "    .colab-df-convert:hover {\n",
              "      background-color: #E2EBFA;\n",
              "      box-shadow: 0px 1px 2px rgba(60, 64, 67, 0.3), 0px 1px 3px 1px rgba(60, 64, 67, 0.15);\n",
              "      fill: #174EA6;\n",
              "    }\n",
              "\n",
              "    [theme=dark] .colab-df-convert {\n",
              "      background-color: #3B4455;\n",
              "      fill: #D2E3FC;\n",
              "    }\n",
              "\n",
              "    [theme=dark] .colab-df-convert:hover {\n",
              "      background-color: #434B5C;\n",
              "      box-shadow: 0px 1px 3px 1px rgba(0, 0, 0, 0.15);\n",
              "      filter: drop-shadow(0px 1px 2px rgba(0, 0, 0, 0.3));\n",
              "      fill: #FFFFFF;\n",
              "    }\n",
              "  </style>\n",
              "\n",
              "      <script>\n",
              "        const buttonEl =\n",
              "          document.querySelector('#df-edaa076a-b0f1-420d-858a-c07d2d9c9673 button.colab-df-convert');\n",
              "        buttonEl.style.display =\n",
              "          google.colab.kernel.accessAllowed ? 'block' : 'none';\n",
              "\n",
              "        async function convertToInteractive(key) {\n",
              "          const element = document.querySelector('#df-edaa076a-b0f1-420d-858a-c07d2d9c9673');\n",
              "          const dataTable =\n",
              "            await google.colab.kernel.invokeFunction('convertToInteractive',\n",
              "                                                     [key], {});\n",
              "          if (!dataTable) return;\n",
              "\n",
              "          const docLinkHtml = 'Like what you see? Visit the ' +\n",
              "            '<a target=\"_blank\" href=https://colab.research.google.com/notebooks/data_table.ipynb>data table notebook</a>'\n",
              "            + ' to learn more about interactive tables.';\n",
              "          element.innerHTML = '';\n",
              "          dataTable['output_type'] = 'display_data';\n",
              "          await google.colab.output.renderOutput(dataTable, element);\n",
              "          const docLink = document.createElement('div');\n",
              "          docLink.innerHTML = docLinkHtml;\n",
              "          element.appendChild(docLink);\n",
              "        }\n",
              "      </script>\n",
              "    </div>\n",
              "  </div>\n",
              "  "
            ]
          },
          "metadata": {},
          "execution_count": 15
        }
      ]
    },
    {
      "cell_type": "markdown",
      "source": [
        "separating the features and target"
      ],
      "metadata": {
        "id": "X8pbI7mUKNar"
      }
    },
    {
      "cell_type": "code",
      "source": [
        "x = data_frame.drop(columns='label', axis=1)\n",
        "y = data_frame['label']"
      ],
      "metadata": {
        "id": "42_HAgKIJtgr"
      },
      "execution_count": null,
      "outputs": []
    },
    {
      "cell_type": "code",
      "source": [
        "print(x)"
      ],
      "metadata": {
        "colab": {
          "base_uri": "https://localhost:8080/"
        },
        "id": "ndZHvvNLJtB2",
        "outputId": "001e606e-7b59-4ca9-a52f-9d77559633a6"
      },
      "execution_count": null,
      "outputs": [
        {
          "output_type": "stream",
          "name": "stdout",
          "text": [
            "     mean radius  mean texture  mean perimeter  mean area  mean smoothness  \\\n",
            "0          17.99         10.38          122.80     1001.0          0.11840   \n",
            "1          20.57         17.77          132.90     1326.0          0.08474   \n",
            "2          19.69         21.25          130.00     1203.0          0.10960   \n",
            "3          11.42         20.38           77.58      386.1          0.14250   \n",
            "4          20.29         14.34          135.10     1297.0          0.10030   \n",
            "..           ...           ...             ...        ...              ...   \n",
            "564        21.56         22.39          142.00     1479.0          0.11100   \n",
            "565        20.13         28.25          131.20     1261.0          0.09780   \n",
            "566        16.60         28.08          108.30      858.1          0.08455   \n",
            "567        20.60         29.33          140.10     1265.0          0.11780   \n",
            "568         7.76         24.54           47.92      181.0          0.05263   \n",
            "\n",
            "     mean compactness  mean concavity  mean concave points  mean symmetry  \\\n",
            "0             0.27760         0.30010              0.14710         0.2419   \n",
            "1             0.07864         0.08690              0.07017         0.1812   \n",
            "2             0.15990         0.19740              0.12790         0.2069   \n",
            "3             0.28390         0.24140              0.10520         0.2597   \n",
            "4             0.13280         0.19800              0.10430         0.1809   \n",
            "..                ...             ...                  ...            ...   \n",
            "564           0.11590         0.24390              0.13890         0.1726   \n",
            "565           0.10340         0.14400              0.09791         0.1752   \n",
            "566           0.10230         0.09251              0.05302         0.1590   \n",
            "567           0.27700         0.35140              0.15200         0.2397   \n",
            "568           0.04362         0.00000              0.00000         0.1587   \n",
            "\n",
            "     mean fractal dimension  ...  worst radius  worst texture  \\\n",
            "0                   0.07871  ...        25.380          17.33   \n",
            "1                   0.05667  ...        24.990          23.41   \n",
            "2                   0.05999  ...        23.570          25.53   \n",
            "3                   0.09744  ...        14.910          26.50   \n",
            "4                   0.05883  ...        22.540          16.67   \n",
            "..                      ...  ...           ...            ...   \n",
            "564                 0.05623  ...        25.450          26.40   \n",
            "565                 0.05533  ...        23.690          38.25   \n",
            "566                 0.05648  ...        18.980          34.12   \n",
            "567                 0.07016  ...        25.740          39.42   \n",
            "568                 0.05884  ...         9.456          30.37   \n",
            "\n",
            "     worst perimeter  worst area  worst smoothness  worst compactness  \\\n",
            "0             184.60      2019.0           0.16220            0.66560   \n",
            "1             158.80      1956.0           0.12380            0.18660   \n",
            "2             152.50      1709.0           0.14440            0.42450   \n",
            "3              98.87       567.7           0.20980            0.86630   \n",
            "4             152.20      1575.0           0.13740            0.20500   \n",
            "..               ...         ...               ...                ...   \n",
            "564           166.10      2027.0           0.14100            0.21130   \n",
            "565           155.00      1731.0           0.11660            0.19220   \n",
            "566           126.70      1124.0           0.11390            0.30940   \n",
            "567           184.60      1821.0           0.16500            0.86810   \n",
            "568            59.16       268.6           0.08996            0.06444   \n",
            "\n",
            "     worst concavity  worst concave points  worst symmetry  \\\n",
            "0             0.7119                0.2654          0.4601   \n",
            "1             0.2416                0.1860          0.2750   \n",
            "2             0.4504                0.2430          0.3613   \n",
            "3             0.6869                0.2575          0.6638   \n",
            "4             0.4000                0.1625          0.2364   \n",
            "..               ...                   ...             ...   \n",
            "564           0.4107                0.2216          0.2060   \n",
            "565           0.3215                0.1628          0.2572   \n",
            "566           0.3403                0.1418          0.2218   \n",
            "567           0.9387                0.2650          0.4087   \n",
            "568           0.0000                0.0000          0.2871   \n",
            "\n",
            "     worst fractal dimension  \n",
            "0                    0.11890  \n",
            "1                    0.08902  \n",
            "2                    0.08758  \n",
            "3                    0.17300  \n",
            "4                    0.07678  \n",
            "..                       ...  \n",
            "564                  0.07115  \n",
            "565                  0.06637  \n",
            "566                  0.07820  \n",
            "567                  0.12400  \n",
            "568                  0.07039  \n",
            "\n",
            "[569 rows x 30 columns]\n"
          ]
        }
      ]
    },
    {
      "cell_type": "code",
      "source": [
        "print(y)"
      ],
      "metadata": {
        "colab": {
          "base_uri": "https://localhost:8080/"
        },
        "id": "WAwzbZPBLErg",
        "outputId": "17172bb1-8ca8-446d-de95-8fd0059f008a"
      },
      "execution_count": null,
      "outputs": [
        {
          "output_type": "stream",
          "name": "stdout",
          "text": [
            "0      0\n",
            "1      0\n",
            "2      0\n",
            "3      0\n",
            "4      0\n",
            "      ..\n",
            "564    0\n",
            "565    0\n",
            "566    0\n",
            "567    0\n",
            "568    1\n",
            "Name: label, Length: 569, dtype: int64\n"
          ]
        }
      ]
    },
    {
      "cell_type": "markdown",
      "source": [
        "splitting the into training data & testing data"
      ],
      "metadata": {
        "id": "eBR748E3LLd7"
      }
    },
    {
      "cell_type": "code",
      "source": [
        "x_train, x_test, y_train, y_test = train_test_split(x, y,test_size=0.2,\n",
        "                                                    random_state=2)"
      ],
      "metadata": {
        "id": "aA4RgcA9LKJh"
      },
      "execution_count": null,
      "outputs": []
    },
    {
      "cell_type": "code",
      "source": [
        "print(x.shape, x_train.shape, x_test.shape)"
      ],
      "metadata": {
        "colab": {
          "base_uri": "https://localhost:8080/"
        },
        "id": "K99KMI7gLpyZ",
        "outputId": "7b1effa4-97e5-4972-a837-2c67b6c94d82"
      },
      "execution_count": null,
      "outputs": [
        {
          "output_type": "stream",
          "name": "stdout",
          "text": [
            "(569, 30) (455, 30) (114, 30)\n"
          ]
        }
      ]
    },
    {
      "cell_type": "markdown",
      "source": [
        "Standardize the data"
      ],
      "metadata": {
        "id": "AtmBK0l0TQ3B"
      }
    },
    {
      "cell_type": "code",
      "source": [
        "from sklearn.preprocessing import StandardScaler"
      ],
      "metadata": {
        "id": "LUoZx05WTUXI"
      },
      "execution_count": null,
      "outputs": []
    },
    {
      "cell_type": "code",
      "source": [
        "scaler = StandardScaler()\n",
        "x_train_std = scaler.fit_transform(x_train)\n",
        "x_test_std = scaler.transform(x_test)"
      ],
      "metadata": {
        "id": "o3nuvfQvTe3H"
      },
      "execution_count": null,
      "outputs": []
    },
    {
      "cell_type": "markdown",
      "source": [
        "**Buliding** **the** **Neural** Network"
      ],
      "metadata": {
        "id": "-o1CauO0MKO4"
      }
    },
    {
      "cell_type": "markdown",
      "source": [
        "![neural_networks_21.webp](data:image/webp;base64,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)"
      ],
      "metadata": {
        "id": "UyurP8d4MjKp"
      }
    },
    {
      "cell_type": "code",
      "source": [
        "import tensorflow as tf\n",
        "tf.random.set_seed(3)\n",
        "from tensorflow import keras"
      ],
      "metadata": {
        "id": "iqWx6FMOMRbW"
      },
      "execution_count": null,
      "outputs": []
    },
    {
      "cell_type": "code",
      "source": [
        "# setting the layers of neural network\n",
        "model = keras.Sequential([\n",
        "                          keras.layers.Flatten(input_shape=(30,)),\n",
        "                          keras.layers.Dense(20, activation='relu'),\n",
        "                          keras.layers.Dense(2, activation='sigmoid')\n",
        "])"
      ],
      "metadata": {
        "id": "Mvawy8FdOI1i"
      },
      "execution_count": null,
      "outputs": []
    },
    {
      "cell_type": "code",
      "source": [
        "#compling the neural network\n",
        "model.compile(optimizer='adam',\n",
        "              loss='sparse_categorical_crossentropy',\n",
        "              metrics=['accuracy'])"
      ],
      "metadata": {
        "id": "dlHUKWodQNAN"
      },
      "execution_count": null,
      "outputs": []
    },
    {
      "cell_type": "code",
      "source": [
        "#training the neural network\n",
        "history = model.fit(x_train_std, y_train, validation_split=0.1, epochs=10)"
      ],
      "metadata": {
        "colab": {
          "base_uri": "https://localhost:8080/"
        },
        "id": "_F_fdnEJRkY0",
        "outputId": "dee27089-c1cd-40d2-9892-8d9a90ab415e"
      },
      "execution_count": null,
      "outputs": [
        {
          "output_type": "stream",
          "name": "stdout",
          "text": [
            "Epoch 1/10\n",
            "13/13 [==============================] - 1s 20ms/step - loss: 0.5798 - accuracy: 0.7237 - val_loss: 0.3884 - val_accuracy: 0.9130\n",
            "Epoch 2/10\n",
            "13/13 [==============================] - 0s 4ms/step - loss: 0.4069 - accuracy: 0.8631 - val_loss: 0.2845 - val_accuracy: 0.9783\n",
            "Epoch 3/10\n",
            "13/13 [==============================] - 0s 4ms/step - loss: 0.3059 - accuracy: 0.8924 - val_loss: 0.2272 - val_accuracy: 0.9783\n",
            "Epoch 4/10\n",
            "13/13 [==============================] - 0s 5ms/step - loss: 0.2491 - accuracy: 0.9095 - val_loss: 0.1939 - val_accuracy: 0.9783\n",
            "Epoch 5/10\n",
            "13/13 [==============================] - 0s 4ms/step - loss: 0.2119 - accuracy: 0.9218 - val_loss: 0.1719 - val_accuracy: 0.9783\n",
            "Epoch 6/10\n",
            "13/13 [==============================] - 0s 4ms/step - loss: 0.1870 - accuracy: 0.9364 - val_loss: 0.1557 - val_accuracy: 0.9783\n",
            "Epoch 7/10\n",
            "13/13 [==============================] - 0s 4ms/step - loss: 0.1682 - accuracy: 0.9389 - val_loss: 0.1433 - val_accuracy: 0.9783\n",
            "Epoch 8/10\n",
            "13/13 [==============================] - 0s 5ms/step - loss: 0.1537 - accuracy: 0.9487 - val_loss: 0.1328 - val_accuracy: 0.9783\n",
            "Epoch 9/10\n",
            "13/13 [==============================] - 0s 4ms/step - loss: 0.1419 - accuracy: 0.9535 - val_loss: 0.1236 - val_accuracy: 0.9783\n",
            "Epoch 10/10\n",
            "13/13 [==============================] - 0s 4ms/step - loss: 0.1314 - accuracy: 0.9633 - val_loss: 0.1169 - val_accuracy: 0.9783\n"
          ]
        }
      ]
    },
    {
      "cell_type": "markdown",
      "source": [
        "visualizing accuracy and loss"
      ],
      "metadata": {
        "id": "1J1sL0dKxbuG"
      }
    },
    {
      "cell_type": "code",
      "source": [
        "plt.plot(history.history['accuracy'])\n",
        "plt.plot(history.history['val_accuracy'])\n",
        "\n",
        "plt.title('model accuracy')\n",
        "plt.ylabel('accuracy')\n",
        "plt.xlabel('epoch')\n",
        "\n",
        "plt.legend(['training data', 'validation data'], loc = 'lower right')"
      ],
      "metadata": {
        "colab": {
          "base_uri": "https://localhost:8080/",
          "height": 312
        },
        "id": "XYoeEbxixKa1",
        "outputId": "07f1b8d6-c091-4052-f5fa-bf581af57f26"
      },
      "execution_count": null,
      "outputs": [
        {
          "output_type": "execute_result",
          "data": {
            "text/plain": [
              "<matplotlib.legend.Legend at 0x7f9b06d42a00>"
            ]
          },
          "metadata": {},
          "execution_count": 29
        },
        {
          "output_type": "display_data",
          "data": {
            "text/plain": [
              "<Figure size 432x288 with 1 Axes>"
            ],
            "image/png": "[encoded data removed]"
          },
          "metadata": {
            "needs_background": "light"
          }
        }
      ]
    },
    {
      "cell_type": "code",
      "source": [
        "plt.plot(history.history['loss'])\n",
        "plt.plot(history.history['val_loss'])\n",
        "\n",
        "plt.title('model loss')\n",
        "plt.ylabel('loss')\n",
        "plt.xlabel('epoch')\n",
        "\n",
        "plt.legend(['training data', 'validation data'], loc = 'upper right')"
      ],
      "metadata": {
        "colab": {
          "base_uri": "https://localhost:8080/",
          "height": 312
        },
        "id": "LULAbwZUzpSM",
        "outputId": "650aee9b-a6cd-448b-b247-66ae963f7fbc"
      },
      "execution_count": null,
      "outputs": [
        {
          "output_type": "execute_result",
          "data": {
            "text/plain": [
              "<matplotlib.legend.Legend at 0x7f9b06d028e0>"
            ]
          },
          "metadata": {},
          "execution_count": 30
        },
        {
          "output_type": "display_data",
          "data": {
            "text/plain": [
              "<Figure size 432x288 with 1 Axes>"
            ],
            "image/png": "[encoded data removed]"
          },
          "metadata": {
            "needs_background": "light"
          }
        }
      ]
    },
    {
      "cell_type": "markdown",
      "source": [
        "Accuracy of the model on test data"
      ],
      "metadata": {
        "id": "Vv5v2X-20NCG"
      }
    },
    {
      "cell_type": "code",
      "source": [
        "loss, accuracy = model.evaluate(x_test_std,y_test)\n",
        "print(accuracy)"
      ],
      "metadata": {
        "colab": {
          "base_uri": "https://localhost:8080/"
        },
        "id": "lx5ULY6M0MBq",
        "outputId": "d5d11474-b4ba-48e0-9cef-638a5fabbf8b"
      },
      "execution_count": null,
      "outputs": [
        {
          "output_type": "stream",
          "name": "stdout",
          "text": [
            "4/4 [==============================] - 0s 3ms/step - loss: 0.1273 - accuracy: 0.9737\n",
            "0.9736841917037964\n"
          ]
        }
      ]
    },
    {
      "cell_type": "code",
      "source": [
        "print(x_test_std.shape)\n",
        "print(x_test_std[0])"
      ],
      "metadata": {
        "colab": {
          "base_uri": "https://localhost:8080/"
        },
        "id": "yEIIDaIu0t2f",
        "outputId": "df58d5f7-f6eb-49d5-8623-4b279d3c62e4"
      },
      "execution_count": null,
      "outputs": [
        {
          "output_type": "stream",
          "name": "stdout",
          "text": [
            "(114, 30)\n",
            "[-0.04462793 -1.41612656 -0.05903514 -0.16234067  2.0202457  -0.11323672\n",
            "  0.18500609  0.47102419  0.63336386  0.26335737  0.53209124  2.62763999\n",
            "  0.62351167  0.11405261  1.01246781  0.41126289  0.63848593  2.88971815\n",
            " -0.41675911  0.74270853 -0.32983699 -1.67435595 -0.36854552 -0.38767294\n",
            "  0.32655007 -0.74858917 -0.54689089 -0.18278004 -1.23064515 -0.6268286 ]\n"
          ]
        }
      ]
    },
    {
      "cell_type": "code",
      "source": [
        "y_pred = model.predict(x_test_std)"
      ],
      "metadata": {
        "colab": {
          "base_uri": "https://localhost:8080/"
        },
        "id": "Yyu5VpwO09cI",
        "outputId": "89d06f30-e212-4a6b-ee31-19607147742e"
      },
      "execution_count": null,
      "outputs": [
        {
          "output_type": "stream",
          "name": "stdout",
          "text": [
            "4/4 [==============================] - 0s 3ms/step\n"
          ]
        }
      ]
    },
    {
      "cell_type": "code",
      "source": [
        "print(y_pred.shape)\n",
        "print(y_pred[0])"
      ],
      "metadata": {
        "colab": {
          "base_uri": "https://localhost:8080/"
        },
        "id": "TjvLfjun1FAN",
        "outputId": "04445534-3ef4-4158-98d4-b9fea8570f3e"
      },
      "execution_count": null,
      "outputs": [
        {
          "output_type": "stream",
          "name": "stdout",
          "text": [
            "(114, 2)\n",
            "[0.35253248 0.5096883 ]\n"
          ]
        }
      ]
    },
    {
      "cell_type": "code",
      "source": [
        "print(x_test_std)"
      ],
      "metadata": {
        "colab": {
          "base_uri": "https://localhost:8080/"
        },
        "id": "nj_GGZc-1O1G",
        "outputId": "42b5c1ce-142a-469b-e024-d7d36f17a701"
      },
      "execution_count": null,
      "outputs": [
        {
          "output_type": "stream",
          "name": "stdout",
          "text": [
            "[[-0.04462793 -1.41612656 -0.05903514 ... -0.18278004 -1.23064515\n",
            "  -0.6268286 ]\n",
            " [ 0.24583601 -0.06219797  0.21802678 ...  0.54129749  0.11047691\n",
            "   0.0483572 ]\n",
            " [-1.26115925 -0.29051645 -1.26499659 ... -1.35138617  0.269338\n",
            "  -0.28231213]\n",
            " ...\n",
            " [ 0.72709489  0.45836817  0.75277276 ...  1.46701686  1.19909344\n",
            "   0.65319961]\n",
            " [ 0.25437907  1.33054477  0.15659489 ... -1.29043534 -2.22561725\n",
            "  -1.59557344]\n",
            " [ 0.84100232 -0.06676434  0.8929529  ...  2.15137705  0.35629355\n",
            "   0.37459546]]\n"
          ]
        }
      ]
    },
    {
      "cell_type": "code",
      "source": [
        "print(y_pred)"
      ],
      "metadata": {
        "colab": {
          "base_uri": "https://localhost:8080/"
        },
        "id": "lh8d1OBS2SmK",
        "outputId": "a7b471b6-b121-4a2c-c6e3-94b15c8aef5a"
      },
      "execution_count": null,
      "outputs": [
        {
          "output_type": "stream",
          "name": "stdout",
          "text": [
            "[[3.52532476e-01 5.09688318e-01]\n",
            " [4.48819518e-01 6.39671922e-01]\n",
            " [7.77236596e-02 9.54797506e-01]\n",
            " [9.87053990e-01 6.04152039e-04]\n",
            " [3.99637222e-01 3.86358947e-01]\n",
            " [8.81420314e-01 2.54445001e-02]\n",
            " [2.31196865e-01 7.56302178e-01]\n",
            " [7.98084959e-02 9.39291537e-01]\n",
            " [1.82437286e-01 9.08723235e-01]\n",
            " [2.17808172e-01 8.38581443e-01]\n",
            " [5.17215550e-01 5.76673090e-01]\n",
            " [2.69769758e-01 8.00358772e-01]\n",
            " [2.57872164e-01 8.07288885e-01]\n",
            " [3.74741703e-01 7.93492496e-01]\n",
            " [1.10800140e-01 9.33896601e-01]\n",
            " [7.91043639e-01 2.42272705e-01]\n",
            " [1.21738479e-01 9.04611230e-01]\n",
            " [1.19124249e-01 8.48879755e-01]\n",
            " [1.99983135e-01 8.58543038e-01]\n",
            " [7.99560368e-01 2.34141368e-02]\n",
            " [2.80697215e-02 3.97514284e-01]\n",
            " [5.96571714e-02 8.42884183e-01]\n",
            " [2.31051281e-01 9.11577702e-01]\n",
            " [6.37717247e-02 9.06915367e-01]\n",
            " [1.26598939e-01 6.47980988e-01]\n",
            " [7.87011266e-01 6.83519691e-02]\n",
            " [2.18806252e-01 7.18833864e-01]\n",
            " [2.77573079e-01 3.83661181e-01]\n",
            " [8.56613696e-01 1.27740800e-01]\n",
            " [8.38154256e-01 1.21800557e-01]\n",
            " [3.02804530e-01 6.56933963e-01]\n",
            " [2.01736331e-01 9.23902273e-01]\n",
            " [7.41788447e-02 7.73730278e-01]\n",
            " [9.45674479e-01 1.98404565e-02]\n",
            " [7.98260808e-01 3.62115577e-02]\n",
            " [1.80579185e-01 6.20296717e-01]\n",
            " [1.37931839e-01 9.64400291e-01]\n",
            " [3.03043127e-01 8.73271823e-01]\n",
            " [5.79419397e-02 9.34768021e-01]\n",
            " [1.85705781e-01 9.22273934e-01]\n",
            " [9.49324787e-01 1.64976576e-03]\n",
            " [6.56987488e-01 3.12119305e-01]\n",
            " [3.20477962e-01 9.80843484e-01]\n",
            " [4.38446775e-02 7.81281531e-01]\n",
            " [4.58011776e-01 8.14982355e-02]\n",
            " [9.80422348e-02 9.09805417e-01]\n",
            " [1.89368073e-02 8.99510264e-01]\n",
            " [1.50504529e-01 9.83127117e-01]\n",
            " [9.55030441e-01 4.59824093e-02]\n",
            " [7.50581264e-01 1.15957424e-01]\n",
            " [1.89819485e-01 8.51266861e-01]\n",
            " [7.00565934e-01 2.26073369e-01]\n",
            " [5.12941599e-01 6.07427776e-01]\n",
            " [1.04046486e-01 8.92997503e-01]\n",
            " [5.16062118e-02 9.43519115e-01]\n",
            " [5.66863894e-01 3.76570165e-01]\n",
            " [1.59559429e-01 7.33134985e-01]\n",
            " [7.21621737e-02 9.53346848e-01]\n",
            " [6.81772232e-01 6.86144782e-03]\n",
            " [9.31151733e-02 7.84259319e-01]\n",
            " [2.75227845e-01 6.74018264e-01]\n",
            " [7.04416752e-01 6.79756999e-02]\n",
            " [8.03014114e-02 9.22440231e-01]\n",
            " [7.66858876e-01 6.02775291e-02]\n",
            " [8.61950994e-01 2.08498433e-01]\n",
            " [2.38620803e-01 2.45253891e-01]\n",
            " [8.91853452e-01 4.85506691e-02]\n",
            " [8.07439625e-01 1.01397708e-01]\n",
            " [4.20483381e-01 4.84316409e-01]\n",
            " [6.48163497e-01 4.10355717e-01]\n",
            " [7.56402075e-01 1.97518364e-01]\n",
            " [9.12356734e-01 2.57394575e-02]\n",
            " [1.89111277e-01 9.30199683e-01]\n",
            " [6.29602015e-01 2.51604021e-01]\n",
            " [3.14373188e-02 9.52884614e-01]\n",
            " [5.68179607e-01 1.92618236e-01]\n",
            " [1.33410662e-01 9.42616582e-01]\n",
            " [5.02045527e-02 8.85035098e-01]\n",
            " [4.29343551e-01 6.59919977e-01]\n",
            " [3.51253718e-01 2.50329107e-01]\n",
            " [8.57866168e-01 7.45833963e-02]\n",
            " [6.15897477e-01 3.24038476e-01]\n",
            " [7.80464709e-01 3.28262560e-02]\n",
            " [2.97820061e-01 8.25631797e-01]\n",
            " [3.22329760e-01 9.15029883e-01]\n",
            " [5.12665212e-01 5.33478677e-01]\n",
            " [3.99113074e-02 7.48052359e-01]\n",
            " [6.61574751e-02 8.69753540e-01]\n",
            " [1.14416167e-01 6.16220117e-01]\n",
            " [8.98313224e-01 1.69061925e-02]\n",
            " [6.47959709e-02 8.64912689e-01]\n",
            " [3.39672744e-01 8.14571321e-01]\n",
            " [5.38001582e-02 7.56993413e-01]\n",
            " [8.31287622e-01 1.75130755e-01]\n",
            " [5.90439916e-01 3.28285128e-01]\n",
            " [1.26201838e-01 7.99193263e-01]\n",
            " [8.27804506e-01 5.27611896e-02]\n",
            " [8.52854133e-01 4.24981937e-02]\n",
            " [4.14670825e-01 8.74423802e-01]\n",
            " [6.40920475e-02 9.40128028e-01]\n",
            " [3.13404724e-02 9.51594710e-01]\n",
            " [4.71778244e-01 1.79165587e-01]\n",
            " [9.73144233e-01 1.58096850e-02]\n",
            " [9.36961472e-01 4.25355462e-03]\n",
            " [2.55101085e-01 8.89829338e-01]\n",
            " [5.93144968e-02 9.21470463e-01]\n",
            " [2.54575089e-02 7.91538715e-01]\n",
            " [2.15622216e-01 9.43121135e-01]\n",
            " [5.05409576e-02 9.95068669e-01]\n",
            " [4.32130218e-01 8.08572292e-01]\n",
            " [8.50104094e-01 7.60610551e-02]\n",
            " [8.94604921e-01 2.48076022e-02]\n",
            " [4.58159298e-01 3.21265608e-01]\n",
            " [7.20080793e-01 5.82030267e-02]]\n"
          ]
        }
      ]
    },
    {
      "cell_type": "code",
      "source": [
        "#argmax function\n",
        "my_list =[0.25,0.56]\n",
        "index_of_max_value = np.argmax(my_list)\n",
        "print(my_list)\n",
        "print(index_of_max_value)"
      ],
      "metadata": {
        "colab": {
          "base_uri": "https://localhost:8080/"
        },
        "id": "h6LQMC7d20pF",
        "outputId": "411bdc68-86d3-4ef1-c867-b1eb4b78adb0"
      },
      "execution_count": null,
      "outputs": [
        {
          "output_type": "stream",
          "name": "stdout",
          "text": [
            "[0.25, 0.56]\n",
            "1\n"
          ]
        }
      ]
    },
    {
      "cell_type": "code",
      "source": [
        "#converting the prediction probablity to class lables\n",
        "y_pred_labels = [np.argmax(i) for i in y_pred]\n",
        "print(y_pred_labels)"
      ],
      "metadata": {
        "colab": {
          "base_uri": "https://localhost:8080/"
        },
        "id": "fOcg8c_f2nMo",
        "outputId": "78283b33-290b-47a9-dda9-268b44a429f4"
      },
      "execution_count": null,
      "outputs": [
        {
          "output_type": "stream",
          "name": "stdout",
          "text": [
            "[1, 1, 1, 0, 0, 0, 1, 1, 1, 1, 1, 1, 1, 1, 1, 0, 1, 1, 1, 0, 1, 1, 1, 1, 1, 0, 1, 1, 0, 0, 1, 1, 1, 0, 0, 1, 1, 1, 1, 1, 0, 0, 1, 1, 0, 1, 1, 1, 0, 0, 1, 0, 1, 1, 1, 0, 1, 1, 0, 1, 1, 0, 1, 0, 0, 1, 0, 0, 1, 0, 0, 0, 1, 0, 1, 0, 1, 1, 1, 0, 0, 0, 0, 1, 1, 1, 1, 1, 1, 0, 1, 1, 1, 0, 0, 1, 0, 0, 1, 1, 1, 0, 0, 0, 1, 1, 1, 1, 1, 1, 0, 0, 0, 0]\n"
          ]
        }
      ]
    },
    {
      "cell_type": "markdown",
      "source": [
        "Building the preditive system"
      ],
      "metadata": {
        "id": "MQKHOhah3-Cn"
      }
    },
    {
      "cell_type": "code",
      "source": [
        "input_data = (9.504,12.44,60.34,273.9,0.1024,0.06492,0.02956,0.02076,0.1815,0.06905,0.2773,0.9768,1.909,15.7,0.009606,0.01432,0.01985,0.01421,0.02027,0.002968,10.23,15.66,65.13,314.9,0.1324,0.1148,0.08867,0.06227,0.245,0.07773)\n",
        "\n",
        "#change the input_data to a numpy array\n",
        "input_data_as_numpy_array = np.asarray(input_data)\n",
        "\n",
        "#reshape the numpy array as we are predicting for one data point\n",
        "input_data_reshaped = input_data_as_numpy_array.reshape(1,-1)\n",
        "\n",
        "#standardizing the input data\n",
        "input_data_std = scaler.transform(input_data_reshaped)\n",
        "\n",
        "prediction = model.predict(input_data)\n",
        "print(prediction)\n",
        "\n",
        "prediction_label = [np.argmax(prediction)]\n",
        "print(prediction_label)\n",
        "\n",
        "if(prediction_label[0]==0):\n",
        "  print('The tumor is Malignant')\n",
        "else:\n",
        "  print('The tumor is Benign')\n",
        "\n"
      ],
      "metadata": {
        "colab": {
          "base_uri": "https://localhost:8080/"
        },
        "id": "ZcN4iQUn4Een",
        "outputId": "c955f389-d3e6-430e-ac11-87c0c42c290e"
      },
      "execution_count": null,
      "outputs": [
        {
          "output_type": "stream",
          "name": "stdout",
          "text": [
            "1/1 [==============================] - 0s 32ms/step\n",
            "[[1. 0.]]\n",
            "[0]\n",
            "The tumor is Malignant\n"
          ]
        },
        {
          "output_type": "stream",
          "name": "stderr",
          "text": [
            "/usr/local/lib/python3.8/dist-packages/sklearn/base.py:450: UserWarning: X does not have valid feature names, but StandardScaler was fitted with feature names\n",
            "  warnings.warn(\n"
          ]
        }
      ]
    }
  ]
}